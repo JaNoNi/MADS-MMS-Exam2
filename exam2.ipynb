{
 "cells": [
  {
   "cell_type": "markdown",
   "id": "fe12c956-bdc7-405f-89bb-73656f14b7bb",
   "metadata": {},
   "source": [
    "# Human Activity Recognition based on Smartphones sensors.\n",
    "---\n",
    "<b>MADS-MMS Portfolio-Exam Part 2<br>\n",
    "Janosch Höfer, 938969</b>"
   ]
  },
  {
   "cell_type": "markdown",
   "id": "a1c21e64-cf43-466b-87d1-0d211e1b06c3",
   "metadata": {},
   "source": [
    "## Table of contents\n",
    "\n",
    "- [Introduction](#intro) <br>\n",
    "- [1. Data preparation](#data-prep) <br>\n",
    "- [2. Parameters](#parameters) <br>\n",
    "- [3. Model setup](#model-setup) <br>\n",
    "   - [3.1. K-Means](#kmean) <br>\n",
    "   - [3.2. EM-Algorithm](#em)<br>\n",
    "   - [3.3. OPTICS](#optics) <br>\n",
    "- [4. Model Evaluation](#model-eval) <br>\n",
    "- [5. Results](#results)<br>\n",
    "- [References](#ref)<br>"
   ]
  },
  {
   "cell_type": "markdown",
   "id": "45565406-0b20-4068-9147-9ad734714b8b",
   "metadata": {},
   "source": [
    "## Introduction\n",
    "\n",
    "bla<br>\n",
    "Using [[1]](http://archive.ics.uci.edu/ml/datasets/Smartphone-Based+Recognition+of+Human+Activities+and+Postural+Transitions)"
   ]
  },
  {
   "cell_type": "code",
   "execution_count": null,
   "id": "837f2b17-b3b1-4f94-8a56-2bd201616743",
   "metadata": {},
   "outputs": [],
   "source": [
    "# Standard libraries\n",
    "import os\n",
    "import itertools\n",
    "\n",
    "import numpy as np\n",
    "import pandas as pd\n",
    "from sklearn.cluster import KMeans, OPTICS\n",
    "from sklearn.metrics import confusion_matrix, ConfusionMatrixDisplay\n",
    "from sklearn.mixture import GaussianMixture\n",
    "from sklearn.preprocessing import MinMaxScaler, OneHotEncoder\n",
    "from tqdm.notebook import tqdm\n",
    "from yellowbrick.cluster import KElbowVisualizer\n",
    "\n",
    "# Own classes and functions\n",
    "from helper_functions.data_manipulation import setup_raw_data\n",
    "from helper_functions.plot_clusters import draw_plot, OPTICSResults"
   ]
  },
  {
   "cell_type": "code",
   "execution_count": null,
   "id": "39fc9ddd-34cf-4f10-9ff8-2341f28ca46c",
   "metadata": {},
   "outputs": [],
   "source": [
    "np.seterr(divide=\"ignore\", invalid=\"ignore\")"
   ]
  },
  {
   "cell_type": "markdown",
   "id": "efb875a5-27c3-44cd-972b-239a85a220d1",
   "metadata": {},
   "source": [
    "---\n",
    "<a id='data-prep'></a>"
   ]
  },
  {
   "cell_type": "markdown",
   "id": "219a6311-f408-4997-bcd4-e84bd851164b",
   "metadata": {},
   "source": [
    "## 1. Data preparation\n",
    "\n",
    "bla"
   ]
  },
  {
   "cell_type": "code",
   "execution_count": null,
   "id": "a3ca2279-ba10-43b3-9ab7-6078a041cee8",
   "metadata": {},
   "outputs": [],
   "source": [
    "path_to_data = \"data\"\n",
    "data_url = \"https://archive.ics.uci.edu/ml/machine-learning-databases/\"\\\n",
    "    \"00544/ObesityDataSet_raw_and_data_sinthetic%20(2).zip\"\n",
    "filename = \"ObesityDataSet_raw_and_data_sinthetic.csv\""
   ]
  },
  {
   "cell_type": "code",
   "execution_count": null,
   "id": "bdba0c89-4d2b-455e-9178-ae1ac28e705d",
   "metadata": {},
   "outputs": [],
   "source": [
    "# Check for data\n",
    "setup_raw_data(data_url, path_to_data, filename)"
   ]
  },
  {
   "cell_type": "code",
   "execution_count": null,
   "id": "b1959a72-5d4f-4ae3-ad50-4d16a1c0f39e",
   "metadata": {},
   "outputs": [],
   "source": [
    "data_full = pd.read_csv(os.path.join(path_to_data, filename), sep=\",\")"
   ]
  },
  {
   "cell_type": "code",
   "execution_count": null,
   "id": "8619d6f0-6ae8-477c-9c0f-2af3d507185c",
   "metadata": {},
   "outputs": [],
   "source": [
    "data_full"
   ]
  },
  {
   "cell_type": "code",
   "execution_count": null,
   "id": "40b506f1-b220-49f7-80cb-2caaf0fb42bd",
   "metadata": {},
   "outputs": [],
   "source": [
    "data_full.describe().T"
   ]
  },
  {
   "cell_type": "code",
   "execution_count": null,
   "id": "929311a6-85de-4536-a0b3-93b677e7f85a",
   "metadata": {},
   "outputs": [],
   "source": [
    "data_full.isna().any()"
   ]
  },
  {
   "cell_type": "markdown",
   "id": "58914329-6698-4cb0-9dec-d429be5f62c4",
   "metadata": {},
   "source": [
    "### Encode"
   ]
  },
  {
   "cell_type": "code",
   "execution_count": null,
   "id": "6cb2d57d-0d02-411e-bd94-003c9ccd4529",
   "metadata": {},
   "outputs": [],
   "source": [
    "data_full.head()"
   ]
  },
  {
   "cell_type": "code",
   "execution_count": null,
   "id": "04c8e7b7-489d-4e46-b085-800c1d49b24f",
   "metadata": {},
   "outputs": [],
   "source": [
    "encoder_cols = [\n",
    "    \"Gender\",\n",
    "    \"family_history_with_overweight\",\n",
    "    \"FAVC\",\n",
    "    \"CAEC\",\n",
    "    \"SMOKE\",\n",
    "    \"SCC\",\n",
    "    \"CALC\",\n",
    "    \"MTRANS\",\n",
    "]"
   ]
  },
  {
   "cell_type": "code",
   "execution_count": null,
   "id": "262abe0f-c1b5-4006-a3c0-6b4703a0a1c9",
   "metadata": {},
   "outputs": [],
   "source": [
    "encoder = OneHotEncoder(drop=\"first\", sparse=False)\n",
    "data_encoded = encoder.fit_transform(data_full[encoder_cols])"
   ]
  },
  {
   "cell_type": "code",
   "execution_count": null,
   "id": "9861ecee-2f17-4b5f-8c98-a0d9e8da7a92",
   "metadata": {},
   "outputs": [],
   "source": [
    "df_encoded = pd.DataFrame(data_encoded, columns=encoder.get_feature_names_out())\n",
    "df_encoded.head()"
   ]
  },
  {
   "cell_type": "markdown",
   "id": "2a3dcfc5-77ba-4307-abcf-7d7a1411316f",
   "metadata": {},
   "source": [
    "### Scale"
   ]
  },
  {
   "cell_type": "code",
   "execution_count": null,
   "id": "90fa2425-eac2-4378-98d7-5ffef555745b",
   "metadata": {},
   "outputs": [],
   "source": [
    "data_full.head()"
   ]
  },
  {
   "cell_type": "code",
   "execution_count": null,
   "id": "e3033506-17e0-4e30-b45b-d13a14fef723",
   "metadata": {},
   "outputs": [],
   "source": [
    "scale_cols = [\"Age\", \"Height\", \"Weight\", \"FCVC\", \"NCP\", \"CH2O\", \"FAF\", \"TUE\"]"
   ]
  },
  {
   "cell_type": "code",
   "execution_count": null,
   "id": "9c91b890-7082-4272-9739-b7598b0dd2b2",
   "metadata": {},
   "outputs": [],
   "source": [
    "scaler = MinMaxScaler()\n",
    "data_scaled = scaler.fit_transform(data_full[scale_cols])\n",
    "df_scaled = pd.DataFrame(data_scaled, columns=scale_cols)\n",
    "df_scaled.head()"
   ]
  },
  {
   "cell_type": "code",
   "execution_count": null,
   "id": "da56f9dc-6771-47dd-a4b9-4017af602c2f",
   "metadata": {},
   "outputs": [],
   "source": [
    "df = pd.merge(df_scaled, df_encoded, left_index=True, right_index=True, how=\"inner\")"
   ]
  },
  {
   "cell_type": "code",
   "execution_count": null,
   "id": "2af75ee1-e17a-406f-acb3-0d902588864e",
   "metadata": {},
   "outputs": [],
   "source": [
    "df.shape"
   ]
  },
  {
   "cell_type": "code",
   "execution_count": null,
   "id": "9e5f5a88-59e2-46e2-81cd-b0b3d0c785f8",
   "metadata": {},
   "outputs": [],
   "source": [
    "df.head()"
   ]
  },
  {
   "cell_type": "markdown",
   "id": "f3022798-2f4b-4316-85c2-b10923d5423d",
   "metadata": {},
   "source": [
    "### Control Target"
   ]
  },
  {
   "cell_type": "code",
   "execution_count": null,
   "id": "107a923f-f43c-4cae-802c-4be1a33c7061",
   "metadata": {},
   "outputs": [],
   "source": [
    "data_targets = data_full[\"NObeyesdad\"]\n",
    "data_targets.shape"
   ]
  },
  {
   "cell_type": "code",
   "execution_count": null,
   "id": "a8939e57-3e04-4ee8-9602-2f22fb294b5e",
   "metadata": {},
   "outputs": [],
   "source": [
    "targets = data_targets\n",
    "for idx, _class in enumerate(data_targets.unique()):\n",
    "    targets = targets.replace(_class, idx)"
   ]
  },
  {
   "cell_type": "code",
   "execution_count": null,
   "id": "d4e5fc84-3038-4284-83ab-b9344b62868e",
   "metadata": {},
   "outputs": [],
   "source": [
    "targets.value_counts()"
   ]
  },
  {
   "cell_type": "markdown",
   "id": "87d98730-fa67-4cf2-a136-0455839786d2",
   "metadata": {},
   "source": [
    "---\n",
    "<a id='parameters'></a>"
   ]
  },
  {
   "cell_type": "markdown",
   "id": "88f4244e-27b7-4193-bfbd-b2126c9d0085",
   "metadata": {
    "tags": []
   },
   "source": [
    "## 2. Parameters\n",
    "\n",
    "bla"
   ]
  },
  {
   "cell_type": "code",
   "execution_count": null,
   "id": "aea6b201-7962-4995-b011-aa5b842c03b8",
   "metadata": {},
   "outputs": [],
   "source": [
    "random_state = 42"
   ]
  },
  {
   "cell_type": "markdown",
   "id": "1ce3eafc-7803-40b0-bc30-45d3f3a6836a",
   "metadata": {},
   "source": [
    "---\n",
    "<a id='split'></a>"
   ]
  },
  {
   "cell_type": "markdown",
   "id": "96d331f6-088f-4ef5-b3e9-d219c8efac0f",
   "metadata": {},
   "source": [
    "## 3. Model setup\n",
    "<a id='kmean'></a>\n",
    "### 3.1. K-Means\n",
    "\n",
    "bla"
   ]
  },
  {
   "cell_type": "code",
   "execution_count": null,
   "id": "473bbd39-5f50-423c-9575-2c0a1744c1ef",
   "metadata": {},
   "outputs": [],
   "source": [
    "max_ks = 20\n",
    "ks = range(2, max_ks)"
   ]
  },
  {
   "cell_type": "code",
   "execution_count": null,
   "id": "4fc4ce14-6322-449f-8e48-6bb59169af60",
   "metadata": {},
   "outputs": [],
   "source": [
    "model = KMeans(random_state=random_state, init=\"k-means++\", max_iter=300, tol=0.0001)\n",
    "visualizer = KElbowVisualizer(model, k=(2, max_ks))"
   ]
  },
  {
   "cell_type": "code",
   "execution_count": null,
   "id": "5b75f76c-6e66-41de-93bd-7ef6dccf5205",
   "metadata": {},
   "outputs": [],
   "source": [
    "visualizer.fit(df)\n",
    "visualizer.show()"
   ]
  },
  {
   "cell_type": "code",
   "execution_count": null,
   "id": "8b2f2a60-44eb-478f-a070-069b54f0b4e8",
   "metadata": {},
   "outputs": [],
   "source": [
    "best_k_elbow = visualizer.elbow_value_\n",
    "draw_plot(\n",
    "    df,\n",
    "    plot_type=\"silhouette\",\n",
    "    ks=best_k_elbow,\n",
    "    random_state=random_state,\n",
    "    no_zero=True,  # increases cluster labels by 1\n",
    "    labels=[\"The silhouette coefficient values\", \"Cluster label\"],\n",
    "    title=f\"Silhouette analysis for KMeans clustering with n_clusters = {best_k_elbow}\",\n",
    ")"
   ]
  },
  {
   "cell_type": "code",
   "execution_count": null,
   "id": "dabed44b-2d01-4f5c-bdaf-1e14fd151776",
   "metadata": {},
   "outputs": [],
   "source": [
    "draw_plot(\n",
    "    df,\n",
    "    ks=ks,\n",
    "    plot_type=\"ksscore\",\n",
    "    random_state=random_state,\n",
    "    labels=[\"K\", \"Silhouette Coefficient\"],\n",
    "    title=\"Silhouette Score for different Ks\",\n",
    ")"
   ]
  },
  {
   "cell_type": "code",
   "execution_count": null,
   "id": "6c28bf8c-9a2c-43bf-8d6f-519fcd91b54f",
   "metadata": {},
   "outputs": [],
   "source": [
    "best_k_silhouette = 14\n",
    "draw_plot(\n",
    "    df,\n",
    "    plot_type=\"silhouette\",\n",
    "    ks=best_k_silhouette,\n",
    "    random_state=random_state,\n",
    "    no_zero=True,  # increases cluster labels by 1\n",
    "    labels=[\"The silhouette coefficient values\", \"Cluster label\"],\n",
    "    title=f\"Silhouette analysis for KMeans clustering with n_clusters = {best_k_silhouette}\",\n",
    ")"
   ]
  },
  {
   "cell_type": "markdown",
   "id": "2e7f06b7-3465-4c5a-885c-034ef5810b27",
   "metadata": {},
   "source": [
    "<a id='em'></a>"
   ]
  },
  {
   "cell_type": "markdown",
   "id": "cc794cae-df11-4ac7-b554-65a2c3070c55",
   "metadata": {},
   "source": [
    "### 3.2. EM-Algorithm (Expectation-Maximization)"
   ]
  },
  {
   "cell_type": "code",
   "execution_count": null,
   "id": "c07ed0f2-96a5-41bb-a7d6-96db6f9caf70",
   "metadata": {},
   "outputs": [],
   "source": [
    "gm = GaussianMixture(best_k_elbow)\n",
    "cluster_assignments = gm.fit_predict(df)"
   ]
  },
  {
   "cell_type": "code",
   "execution_count": null,
   "id": "4cfcee6e-d7cf-42f7-8f8e-adcaa1b521d7",
   "metadata": {},
   "outputs": [],
   "source": [
    "set(cluster_assignments)"
   ]
  },
  {
   "cell_type": "code",
   "execution_count": null,
   "id": "a983fb2c-97c2-4d67-ad01-ad4cf0cdb842",
   "metadata": {},
   "outputs": [],
   "source": [
    "conf_matrix = confusion_matrix(y_true=targets, y_pred=cluster_assignments)\n",
    "ConfusionMatrixDisplay(conf_matrix).plot()"
   ]
  },
  {
   "cell_type": "code",
   "execution_count": null,
   "id": "d27692c0-c073-48b4-92f0-c6ede3331ead",
   "metadata": {},
   "outputs": [],
   "source": [
    "gm = GaussianMixture(best_k_silhouette)\n",
    "cluster_assignments = gm.fit_predict(df)\n",
    "conf_matrix = confusion_matrix(y_true=targets, y_pred=cluster_assignments)\n",
    "ConfusionMatrixDisplay(conf_matrix).plot()"
   ]
  },
  {
   "cell_type": "markdown",
   "id": "074f1fd1-dd2e-4d8e-8c98-ed240e5412d9",
   "metadata": {},
   "source": [
    "<a id='optics'></a>"
   ]
  },
  {
   "cell_type": "markdown",
   "id": "3a6e43c4-cf8f-4880-be50-cd6d296eef96",
   "metadata": {},
   "source": [
    "### 3.3. OPTICS (Ordering Points To Identify the Clustering Structure)"
   ]
  },
  {
   "cell_type": "code",
   "execution_count": null,
   "id": "e0bda32a-19f3-46b6-8719-2f7f1f9d5b16",
   "metadata": {},
   "outputs": [],
   "source": [
    "def optics_experiment(df, parameters: dict[str, list]):\n",
    "    results = list()\n",
    "    space = np.arange(len(df))\n",
    "\n",
    "    max_len = np.prod([len(item) for item in parameters.values()])  # Iterables have no length\n",
    "    for item in tqdm(itertools.product(*parameters.values()), total=max_len):\n",
    "        optics_clustering = OPTICS(\n",
    "            min_samples=item[0], metric=item[1], xi=item[2], min_cluster_size=item[3]\n",
    "        ).fit(df)\n",
    "        results.append(\n",
    "            OPTICSResults(\n",
    "                space=space,\n",
    "                reachability=optics_clustering.reachability_[optics_clustering.ordering_],\n",
    "                targets=optics_clustering.labels_[optics_clustering.ordering_],\n",
    "                params=optics_clustering.get_params(),\n",
    "            )\n",
    "        )\n",
    "    return results"
   ]
  },
  {
   "cell_type": "code",
   "execution_count": null,
   "id": "c0032756-bbb7-4dc3-b076-06db0a739730",
   "metadata": {},
   "outputs": [],
   "source": [
    "parameters = {\n",
    "    \"min_samples\": [15, 20],\n",
    "    \"metric\": [\"minkowski\"],\n",
    "    \"xi\": [0.2],\n",
    "    \"min_cluster_size\": [5, 10, 20],\n",
    "}"
   ]
  },
  {
   "cell_type": "code",
   "execution_count": null,
   "id": "7b868e12-cd51-4d95-b4b5-6c41fd58a8df",
   "metadata": {},
   "outputs": [],
   "source": [
    "optics_res = optics_experiment(df, parameters)"
   ]
  },
  {
   "cell_type": "code",
   "execution_count": null,
   "id": "4ba2c588-aaa9-437c-8185-fbf118c1baac",
   "metadata": {},
   "outputs": [],
   "source": [
    "draw_plot(\n",
    "    optics_res,\n",
    "    figsize=(16, 18),\n",
    "    grid_size=(round(len(optics_res) / 2), 2),\n",
    "    plot_type=\"reachability\",\n",
    "    labels=[\"\", \"Reachability distance\"],\n",
    "    title=\"Reachability Diagram\",\n",
    ")"
   ]
  },
  {
   "cell_type": "markdown",
   "id": "f99ee455-bd2a-4387-b7ea-cf720b0f7123",
   "metadata": {},
   "source": [
    "---\n",
    "<a id='model-eval'></a>"
   ]
  },
  {
   "cell_type": "markdown",
   "id": "0ebc48f3-afc8-41f8-b7cc-2b201bb40bd1",
   "metadata": {},
   "source": [
    "## 4. Model Evaluation\n",
    "\n",
    "bla"
   ]
  },
  {
   "cell_type": "markdown",
   "id": "3dbc978b-f510-4c9b-b11a-075baa281a18",
   "metadata": {},
   "source": [
    "---\n",
    "<a id='results'></a>"
   ]
  },
  {
   "cell_type": "markdown",
   "id": "2739560c-68d9-4117-bfc4-d3bf2d7cd4ca",
   "metadata": {},
   "source": [
    "## 5. Results\n",
    "\n",
    "bla"
   ]
  },
  {
   "cell_type": "markdown",
   "id": "ffbadb09-3df0-44c0-8b05-4da97c228cb6",
   "metadata": {},
   "source": [
    "---\n",
    "<a id='ref'></a>"
   ]
  },
  {
   "cell_type": "markdown",
   "id": "63e0230c-c730-459d-8091-df1715975467",
   "metadata": {},
   "source": [
    "## References\n",
    "\n",
    "<p> [1] http://archive.ics.uci.edu/ml/datasets/Smartphone-Based+Recognition+of+Human+Activities+and+Postural+Transitions"
   ]
  },
  {
   "cell_type": "code",
   "execution_count": null,
   "id": "e036044d-4c18-4711-811a-75cf63dc3e30",
   "metadata": {},
   "outputs": [],
   "source": []
  }
 ],
 "metadata": {
  "kernelspec": {
   "display_name": "mms",
   "language": "python",
   "name": "mms"
  },
  "language_info": {
   "codemirror_mode": {
    "name": "ipython",
    "version": 3
   },
   "file_extension": ".py",
   "mimetype": "text/x-python",
   "name": "python",
   "nbconvert_exporter": "python",
   "pygments_lexer": "ipython3",
   "version": "3.9.13"
  }
 },
 "nbformat": 4,
 "nbformat_minor": 5
}
