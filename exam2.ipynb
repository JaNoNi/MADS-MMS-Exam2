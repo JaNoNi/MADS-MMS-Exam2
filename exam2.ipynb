{
 "cells": [
  {
   "cell_type": "markdown",
   "id": "fe12c956-bdc7-405f-89bb-73656f14b7bb",
   "metadata": {},
   "source": [
    "# Human Activity Recognition based on Smartphones sensors.\n",
    "---\n",
    "<b>MADS-MMS Portfolio-Exam Part 2<br>\n",
    "Janosch Höfer, 938969</b>"
   ]
  },
  {
   "cell_type": "markdown",
   "id": "a1c21e64-cf43-466b-87d1-0d211e1b06c3",
   "metadata": {},
   "source": [
    "## Table of contents\n",
    "\n",
    "- [Introduction](#intro) <br>\n",
    "- [1. Data Exploration](#data-prep) <br>\n",
    "    - [1.1. Data Engineering](#dataeng) <br>\n",
    "    - [1.2. Data Visualization](#datavis) <br>\n",
    "- [2. Parameters](#parameters) <br>\n",
    "- [3. Model setup](#model-setup) <br>\n",
    "   - [3.1. K-Means](#kmean) <br>\n",
    "   - [3.2. HAC](#hac)<br>\n",
    "   - [3.3. OPTICS](#optics) <br>\n",
    "- [4. Model Evaluation](#model-eval) <br>\n",
    "- [5. Results](#results)<br>\n",
    "- [References](#ref)<br>"
   ]
  },
  {
   "cell_type": "markdown",
   "id": "45565406-0b20-4068-9147-9ad734714b8b",
   "metadata": {},
   "source": [
    "## Introduction\n",
    "\n",
    "bla<br>\n",
    "Using [[1]](http://archive.ics.uci.edu/ml/datasets/Smartphone-Based+Recognition+of+Human+Activities+and+Postural+Transitions)"
   ]
  },
  {
   "cell_type": "code",
   "execution_count": null,
   "id": "837f2b17-b3b1-4f94-8a56-2bd201616743",
   "metadata": {},
   "outputs": [],
   "source": [
    "# Standard libraries\n",
    "import os\n",
    "import itertools\n",
    "\n",
    "import numpy as np\n",
    "import pandas as pd\n",
    "import matplotlib.pyplot as plt\n",
    "import matplotlib.ticker as mtick\n",
    "import seaborn as sns\n",
    "from sklearn.cluster import KMeans, OPTICS, AgglomerativeClustering\n",
    "from tqdm.notebook import tqdm\n",
    "from yellowbrick.cluster import KElbowVisualizer\n",
    "\n",
    "# Own classes and functions\n",
    "from helper_functions.data_manipulation import setup_raw_data\n",
    "from helper_functions.plot_clusters import draw_plot, OPTICSResults"
   ]
  },
  {
   "cell_type": "code",
   "execution_count": null,
   "id": "572b5b8c-88b0-469d-b1f8-784e232aa1a7",
   "metadata": {},
   "outputs": [],
   "source": [
    "pd.set_option(\"display.max_columns\", 25)"
   ]
  },
  {
   "cell_type": "markdown",
   "id": "efb875a5-27c3-44cd-972b-239a85a220d1",
   "metadata": {},
   "source": [
    "---\n",
    "<a id='data-prep'></a>"
   ]
  },
  {
   "cell_type": "markdown",
   "id": "219a6311-f408-4997-bcd4-e84bd851164b",
   "metadata": {},
   "source": [
    "## 1. Data Exploration\n",
    "<a id='dataeng'></a>\n",
    "### 1.1. Data Engineering\n",
    "\n",
    "bla"
   ]
  },
  {
   "cell_type": "code",
   "execution_count": null,
   "id": "a3ca2279-ba10-43b3-9ab7-6078a041cee8",
   "metadata": {},
   "outputs": [],
   "source": [
    "path_to_data = \"data\"\n",
    "data_url = (\n",
    "    \"https://archive.ics.uci.edu/ml/machine-learning-databases/00485/google_review_ratings.csv\"\n",
    ")\n",
    "filename = \"google_review_ratings.csv\""
   ]
  },
  {
   "cell_type": "code",
   "execution_count": null,
   "id": "bdba0c89-4d2b-455e-9178-ae1ac28e705d",
   "metadata": {},
   "outputs": [],
   "source": [
    "# Check for data\n",
    "setup_raw_data(data_url, path_to_data, filename)"
   ]
  },
  {
   "cell_type": "code",
   "execution_count": null,
   "id": "b1959a72-5d4f-4ae3-ad50-4d16a1c0f39e",
   "metadata": {},
   "outputs": [],
   "source": [
    "features = [\n",
    "    \"churches\",\n",
    "    \"resorts\",\n",
    "    \"beaches\",\n",
    "    \"parks\",\n",
    "    \"theatres\",\n",
    "    \"museums\",\n",
    "    \"malls\",\n",
    "    \"zoo\",\n",
    "    \"restaurants\",\n",
    "    \"pubs_bars\",\n",
    "    \"local_services\",\n",
    "    \"burger_pizza_shops\",\n",
    "    \"hotels_other_lodgings\",\n",
    "    \"juice_bars\",\n",
    "    \"art_galleries\",\n",
    "    \"dance_clubs\",\n",
    "    \"swimming_pools\",\n",
    "    \"gyms\",\n",
    "    \"bakeries\",\n",
    "    \"beauty_spas\",\n",
    "    \"cafes\",\n",
    "    \"view_points\",\n",
    "    \"monuments\",\n",
    "    \"gardens\",\n",
    "    \"c25\",\n",
    "]\n",
    "data_full = pd.read_csv(\n",
    "    os.path.join(path_to_data, filename), sep=\",\", index_col=0, names=features, header=0\n",
    ")"
   ]
  },
  {
   "cell_type": "code",
   "execution_count": null,
   "id": "8619d6f0-6ae8-477c-9c0f-2af3d507185c",
   "metadata": {},
   "outputs": [],
   "source": [
    "data_full.head()"
   ]
  },
  {
   "cell_type": "markdown",
   "id": "1ae886d0-76e4-46eb-9dee-bbe473d73a7f",
   "metadata": {},
   "source": [
    "Remove the empty last column."
   ]
  },
  {
   "cell_type": "code",
   "execution_count": null,
   "id": "41975e29-3332-44ac-89e9-3c478e513648",
   "metadata": {},
   "outputs": [],
   "source": [
    "data_full = data_full.iloc[:, :-1]"
   ]
  },
  {
   "cell_type": "code",
   "execution_count": null,
   "id": "3a3f50b4-9adc-4a7f-b23c-75a37a9d9d6c",
   "metadata": {},
   "outputs": [],
   "source": [
    "data_full.describe()"
   ]
  },
  {
   "cell_type": "markdown",
   "id": "f5de7c19-5a49-4a06-ba66-30ede4e9218f",
   "metadata": {},
   "source": [
    "Ratings between 1 and 5. 0 means that no rating has been made."
   ]
  },
  {
   "cell_type": "code",
   "execution_count": null,
   "id": "e3c164cc-2cb6-4a45-a4c1-77e870eea16c",
   "metadata": {},
   "outputs": [],
   "source": [
    "data_full.isna().sum()"
   ]
  },
  {
   "cell_type": "code",
   "execution_count": null,
   "id": "79e1a775-8c76-45e4-b7a2-a88265dda219",
   "metadata": {},
   "outputs": [],
   "source": [
    "data_full[data_full.isna().any(axis=1)]"
   ]
  },
  {
   "cell_type": "code",
   "execution_count": null,
   "id": "d90cf482-1f92-47fd-958c-3f61001bf135",
   "metadata": {},
   "outputs": [],
   "source": [
    "df = data_full.dropna().copy()"
   ]
  },
  {
   "cell_type": "code",
   "execution_count": null,
   "id": "a1be1626-39b9-4cc2-927e-99e992ed18b3",
   "metadata": {},
   "outputs": [],
   "source": [
    "df.dtypes"
   ]
  },
  {
   "cell_type": "markdown",
   "id": "16ab34e4-5d03-4e87-b7ba-d0658f1bafcc",
   "metadata": {},
   "source": [
    "Because of the false value for User 2713 in the local services column, the data type is not float."
   ]
  },
  {
   "cell_type": "code",
   "execution_count": null,
   "id": "3d98d22e-2ae0-4e11-9005-7c9a2e6252ca",
   "metadata": {},
   "outputs": [],
   "source": [
    "df[\"local_services\"] = pd.to_numeric(df[\"local_services\"])"
   ]
  },
  {
   "cell_type": "code",
   "execution_count": null,
   "id": "4e9473f4-b1f5-4432-a64c-231fd2366d22",
   "metadata": {},
   "outputs": [],
   "source": [
    "df.dtypes"
   ]
  },
  {
   "cell_type": "markdown",
   "id": "c424b28d-8a39-47fd-9163-893469c30722",
   "metadata": {},
   "source": [
    "<a id='datavis'></a>\n",
    "### 1.2. Data Visualization "
   ]
  },
  {
   "cell_type": "code",
   "execution_count": null,
   "id": "468770a9-5459-4cb7-bf88-231911ca138a",
   "metadata": {},
   "outputs": [],
   "source": [
    "start, end = 0, 8\n",
    "draw_plot(\n",
    "    df[features[start:end]],\n",
    "    plot_type=\"histplot\",\n",
    "    figsize=(16, 8),\n",
    "    grid_size=(2, 4),\n",
    "    title=f\"Feature distribution for the features: {', '.join(features[start:end])}.\",\n",
    ")"
   ]
  },
  {
   "cell_type": "code",
   "execution_count": null,
   "id": "8b713b3e-2625-4e24-80a0-fb8801695869",
   "metadata": {},
   "outputs": [],
   "source": [
    "start, end = 8, 16\n",
    "draw_plot(\n",
    "    df[features[start:end]],\n",
    "    plot_type=\"histplot\",\n",
    "    figsize=(16, 8),\n",
    "    grid_size=(2, 4),\n",
    "    title=f\"Feature distribution for the features: {', '.join(features[start:end])}.\",\n",
    ")"
   ]
  },
  {
   "cell_type": "code",
   "execution_count": null,
   "id": "050ae2de-3a0e-4220-8e09-d0095456820d",
   "metadata": {},
   "outputs": [],
   "source": [
    "start, end = 16, 24\n",
    "draw_plot(\n",
    "    df[features[start:end]],\n",
    "    plot_type=\"histplot\",\n",
    "    figsize=(16, 8),\n",
    "    grid_size=(2, 4),\n",
    "    title=f\"Feature distribution for the features: {', '.join(features[start:end])}.\",\n",
    ")"
   ]
  },
  {
   "cell_type": "code",
   "execution_count": null,
   "id": "dd5956b0-8739-46fa-9f36-97bbcf800050",
   "metadata": {},
   "outputs": [],
   "source": [
    "norating = df[df == 0].count(axis=0) / df.shape[0] * 100"
   ]
  },
  {
   "cell_type": "code",
   "execution_count": null,
   "id": "a6a06135-24a3-42fb-b430-750219263648",
   "metadata": {},
   "outputs": [],
   "source": [
    "df_norating = (\n",
    "    pd.DataFrame(norating, columns=[\"perc_norating\"])\n",
    "    .reset_index()\n",
    "    .sort_values(by=\"perc_norating\", ascending=False)\n",
    ")"
   ]
  },
  {
   "cell_type": "code",
   "execution_count": null,
   "id": "aa7d2b82-c745-4789-beca-b5f5ae359079",
   "metadata": {},
   "outputs": [],
   "source": [
    "ax = sns.barplot(df_norating, x=\"perc_norating\", y=\"index\")\n",
    "plt.xlabel(\"User that left no rating [%]\")\n",
    "ax.xaxis.set_major_formatter(mtick.PercentFormatter())\n",
    "plt.ylabel(\"Feature\")\n",
    "plt.title(\"Percentage of users that have not rated the feature.\")\n",
    "plt.show()"
   ]
  },
  {
   "cell_type": "code",
   "execution_count": null,
   "id": "1c3b9d90-706c-496c-9d76-8248464a4704",
   "metadata": {},
   "outputs": [],
   "source": [
    "df_average = (\n",
    "    pd.DataFrame(df.replace(0, np.NaN).mean(), columns=[\"Average\"])\n",
    "    .reset_index()\n",
    "    .rename(columns={\"index\": \"Feature\"})\n",
    "    .sort_values(by=\"Average\", ascending=False)\n",
    ")"
   ]
  },
  {
   "cell_type": "code",
   "execution_count": null,
   "id": "976ff416-82fb-4bc0-bf8d-58ed280c1dd4",
   "metadata": {},
   "outputs": [],
   "source": [
    "palette = [\n",
    "    \"red\" if 0 < val <= 1 else \"orange\" if 1 < val <= 2 else \"blue\" if 2 < val <= 3 else \"green\"\n",
    "    for val in df_average[\"Average\"].tolist()\n",
    "]\n",
    "\n",
    "sns.barplot(df_average, y=\"Feature\", x=\"Average\", palette=palette)\n",
    "plt.xlabel(\"Rating\")\n",
    "plt.title(\"Average Ratings excluding zero values.\")\n",
    "plt.show()"
   ]
  },
  {
   "cell_type": "code",
   "execution_count": null,
   "id": "4e2d28f8-3554-45a1-92c2-6f8ed97f39a7",
   "metadata": {},
   "outputs": [],
   "source": [
    "# sns.pairplot(df)\n",
    "# plt.show()"
   ]
  },
  {
   "cell_type": "code",
   "execution_count": null,
   "id": "929311a6-85de-4536-a0b3-93b677e7f85a",
   "metadata": {},
   "outputs": [],
   "source": []
  },
  {
   "cell_type": "markdown",
   "id": "f3022798-2f4b-4316-85c2-b10923d5423d",
   "metadata": {},
   "source": [
    "### Control Target"
   ]
  },
  {
   "cell_type": "markdown",
   "id": "87d98730-fa67-4cf2-a136-0455839786d2",
   "metadata": {},
   "source": [
    "---\n",
    "<a id='parameters'></a>"
   ]
  },
  {
   "cell_type": "markdown",
   "id": "88f4244e-27b7-4193-bfbd-b2126c9d0085",
   "metadata": {
    "tags": []
   },
   "source": [
    "## 2. Parameters\n",
    "\n",
    "bla"
   ]
  },
  {
   "cell_type": "code",
   "execution_count": null,
   "id": "aea6b201-7962-4995-b011-aa5b842c03b8",
   "metadata": {},
   "outputs": [],
   "source": [
    "random_state = 42"
   ]
  },
  {
   "cell_type": "markdown",
   "id": "1ce3eafc-7803-40b0-bc30-45d3f3a6836a",
   "metadata": {},
   "source": [
    "---\n",
    "<a id='split'></a>"
   ]
  },
  {
   "cell_type": "markdown",
   "id": "96d331f6-088f-4ef5-b3e9-d219c8efac0f",
   "metadata": {},
   "source": [
    "## 3. Model setup\n",
    "<a id='kmean'></a>\n",
    "### 3.1. K-Means\n",
    "\n",
    "bla"
   ]
  },
  {
   "cell_type": "code",
   "execution_count": null,
   "id": "473bbd39-5f50-423c-9575-2c0a1744c1ef",
   "metadata": {},
   "outputs": [],
   "source": [
    "max_ks = 20\n",
    "ks = range(2, max_ks)"
   ]
  },
  {
   "cell_type": "code",
   "execution_count": null,
   "id": "4fc4ce14-6322-449f-8e48-6bb59169af60",
   "metadata": {},
   "outputs": [],
   "source": [
    "model = KMeans(random_state=random_state, init=\"k-means++\", max_iter=300, tol=0.0001)\n",
    "visualizer = KElbowVisualizer(model, k=(2, max_ks))"
   ]
  },
  {
   "cell_type": "code",
   "execution_count": null,
   "id": "5b75f76c-6e66-41de-93bd-7ef6dccf5205",
   "metadata": {},
   "outputs": [],
   "source": [
    "visualizer.fit(df)\n",
    "visualizer.show()"
   ]
  },
  {
   "cell_type": "code",
   "execution_count": null,
   "id": "8b2f2a60-44eb-478f-a070-069b54f0b4e8",
   "metadata": {},
   "outputs": [],
   "source": [
    "best_k_elbow = visualizer.elbow_value_\n",
    "draw_plot(\n",
    "    df,\n",
    "    plot_type=\"silhouette\",\n",
    "    ks=best_k_elbow,\n",
    "    random_state=random_state,\n",
    "    labels=[\"The silhouette coefficient values\", \"Cluster label\"],\n",
    "    title=f\"Silhouette analysis for KMeans clustering with n_clusters = {best_k_elbow}\",\n",
    ")"
   ]
  },
  {
   "cell_type": "code",
   "execution_count": null,
   "id": "dabed44b-2d01-4f5c-bdaf-1e14fd151776",
   "metadata": {},
   "outputs": [],
   "source": [
    "sscores = draw_plot(\n",
    "    df,\n",
    "    ks=ks,\n",
    "    plot_type=\"ksscore\",\n",
    "    random_state=random_state,\n",
    "    labels=[\"K\", \"Silhouette Coefficient\"],\n",
    "    title=\"Silhouette Score for different Ks\",\n",
    ")"
   ]
  },
  {
   "cell_type": "code",
   "execution_count": null,
   "id": "6c28bf8c-9a2c-43bf-8d6f-519fcd91b54f",
   "metadata": {},
   "outputs": [],
   "source": [
    "best_k_silhouette = ks[sscores.index(max(sscores))]\n",
    "draw_plot(\n",
    "    df,\n",
    "    plot_type=\"silhouette\",\n",
    "    ks=best_k_silhouette,\n",
    "    random_state=random_state,\n",
    "    labels=[\"The silhouette coefficient values\", \"Cluster label\"],\n",
    "    title=f\"Silhouette analysis for KMeans clustering with n_clusters = {best_k_silhouette}\",\n",
    ")"
   ]
  },
  {
   "cell_type": "markdown",
   "id": "2e7f06b7-3465-4c5a-885c-034ef5810b27",
   "metadata": {},
   "source": [
    "<a id='hac'></a>"
   ]
  },
  {
   "cell_type": "markdown",
   "id": "cc794cae-df11-4ac7-b554-65a2c3070c55",
   "metadata": {},
   "source": [
    "### 3.2. HAC (Hierarchical Agglomerative Clustering)"
   ]
  },
  {
   "cell_type": "code",
   "execution_count": null,
   "id": "46c2097d-66c7-4267-ad08-361ae49fd152",
   "metadata": {},
   "outputs": [],
   "source": [
    "dendo_distance = \"single\"\n",
    "dendo_cut = 200\n",
    "dendo_model = AgglomerativeClustering(\n",
    "    n_clusters=None,\n",
    "    distance_threshold=1,\n",
    "    affinity=\"euclidean\",\n",
    "    linkage=dendo_distance,\n",
    "    compute_distances=True,\n",
    ")\n",
    "dendo_model.fit_predict(df)\n",
    "draw_plot(\n",
    "    dendo_model,\n",
    "    plot_type=\"dendo\",\n",
    "    dendo_cut=dendo_cut,\n",
    "    dendo_distance=dendo_distance,\n",
    "    labels=[\"Samples\", \"Distance\"],\n",
    "    title=f\"Dendogram using {dendo_distance}-link.\",\n",
    ")"
   ]
  },
  {
   "cell_type": "code",
   "execution_count": null,
   "id": "89f2fc1d-7bbc-49d5-92d0-f0882dd3b316",
   "metadata": {},
   "outputs": [],
   "source": [
    "dendo_distance = \"complete\"\n",
    "cut = 6800\n",
    "dendo_model = AgglomerativeClustering(\n",
    "    n_clusters=None,\n",
    "    distance_threshold=1,\n",
    "    affinity=\"euclidean\",\n",
    "    linkage=dendo_distance,\n",
    "    compute_distances=True,\n",
    ")\n",
    "dendo_model.fit_predict(df)\n",
    "draw_plot(\n",
    "    dendo_model,\n",
    "    plot_type=\"dendo\",\n",
    "    dendo_cut=cut,\n",
    "    dendo_distance=dendo_distance,\n",
    "    labels=[\"Samples\", \"Distance\"],\n",
    "    title=f\"Dendogram using {dendo_distance}-link.\",\n",
    ")"
   ]
  },
  {
   "cell_type": "code",
   "execution_count": null,
   "id": "7dafa663-790f-4b68-a832-480323df5d9a",
   "metadata": {
    "tags": []
   },
   "outputs": [],
   "source": [
    "dendo_distance = \"average\"\n",
    "dendo_cut = 3500\n",
    "dendo_model = AgglomerativeClustering(\n",
    "    n_clusters=None,\n",
    "    distance_threshold=1,\n",
    "    affinity=\"euclidean\",\n",
    "    linkage=dendo_distance,\n",
    "    compute_distances=True,\n",
    ")\n",
    "dendo_model.fit_predict(df)\n",
    "draw_plot(\n",
    "    dendo_model,\n",
    "    plot_type=\"dendo\",\n",
    "    dendo_cut=dendo_cut,\n",
    "    dendo_distance=dendo_distance,\n",
    "    labels=[\"Samples\", \"Distance\"],\n",
    "    title=f\"Dendogram using {dendo_distance}-link.\",\n",
    ")"
   ]
  },
  {
   "cell_type": "code",
   "execution_count": null,
   "id": "919e651a-ba2b-4b7d-95a1-97ac1455b275",
   "metadata": {},
   "outputs": [],
   "source": [
    "dendo_model = AgglomerativeClustering(distance_threshold=None, n_clusters=5, linkage=\"average\")\n",
    "labels_dendo = dendo_model.fit_predict(df)"
   ]
  },
  {
   "cell_type": "code",
   "execution_count": null,
   "id": "c1842021-dcbd-4bbc-bdab-ccb0dd29f1f2",
   "metadata": {},
   "outputs": [],
   "source": [
    "set(labels_dendo)"
   ]
  },
  {
   "cell_type": "code",
   "execution_count": null,
   "id": "a240bcb1-c0ea-44da-83d3-43dd08241769",
   "metadata": {},
   "outputs": [],
   "source": [
    "df[\"dendo_labels\"] = labels_dendo"
   ]
  },
  {
   "cell_type": "code",
   "execution_count": null,
   "id": "fc183841-d582-4114-b192-c4182fe2aab9",
   "metadata": {},
   "outputs": [],
   "source": [
    "# sns.pairplot(df, hue=\"dendo_labels\")\n",
    "# plt.show()"
   ]
  },
  {
   "cell_type": "markdown",
   "id": "074f1fd1-dd2e-4d8e-8c98-ed240e5412d9",
   "metadata": {},
   "source": [
    "<a id='optics'></a>"
   ]
  },
  {
   "cell_type": "markdown",
   "id": "3a6e43c4-cf8f-4880-be50-cd6d296eef96",
   "metadata": {},
   "source": [
    "### 3.3. OPTICS (Ordering Points To Identify the Clustering Structure)"
   ]
  },
  {
   "cell_type": "code",
   "execution_count": null,
   "id": "e0bda32a-19f3-46b6-8719-2f7f1f9d5b16",
   "metadata": {},
   "outputs": [],
   "source": [
    "def optics_experiment(df, parameters: dict[str, list]):\n",
    "    results = list()\n",
    "    space = np.arange(len(df))\n",
    "\n",
    "    max_len = np.prod([len(item) for item in parameters.values()])  # Iterables have no length\n",
    "    for item in tqdm(itertools.product(*parameters.values()), total=max_len):\n",
    "        optics_clustering = OPTICS(\n",
    "            min_samples=item[0], metric=item[1], xi=item[2], min_cluster_size=item[3]\n",
    "        ).fit(df)\n",
    "        results.append(\n",
    "            OPTICSResults(\n",
    "                space=space,\n",
    "                reachability=optics_clustering.reachability_[optics_clustering.ordering_],\n",
    "                targets=optics_clustering.labels_[optics_clustering.ordering_],\n",
    "                params=optics_clustering.get_params(),\n",
    "            )\n",
    "        )\n",
    "    return results"
   ]
  },
  {
   "cell_type": "code",
   "execution_count": null,
   "id": "c0032756-bbb7-4dc3-b076-06db0a739730",
   "metadata": {},
   "outputs": [],
   "source": [
    "parameters = {\n",
    "    \"min_samples\": [40, 50],\n",
    "    \"metric\": [\"minkowski\", \"euclidean\"],\n",
    "    \"xi\": [0.05, 0.025],\n",
    "    \"min_cluster_size\": [0.1, 0.2],\n",
    "}"
   ]
  },
  {
   "cell_type": "code",
   "execution_count": null,
   "id": "7b868e12-cd51-4d95-b4b5-6c41fd58a8df",
   "metadata": {},
   "outputs": [],
   "source": [
    "optics_res = optics_experiment(df, parameters)"
   ]
  },
  {
   "cell_type": "code",
   "execution_count": null,
   "id": "4ba2c588-aaa9-437c-8185-fbf118c1baac",
   "metadata": {},
   "outputs": [],
   "source": [
    "draw_plot(\n",
    "    optics_res,\n",
    "    figsize=(16, 18),\n",
    "    grid_size=(round(len(optics_res) / 2), 2),\n",
    "    plot_type=\"reachability\",\n",
    "    labels=[\"\", \"Reachability distance\"],\n",
    "    # top_cut_off=3,\n",
    "    title=\"Reachability Diagram\",\n",
    ")"
   ]
  },
  {
   "cell_type": "code",
   "execution_count": null,
   "id": "7fe529c4-f2a3-484f-ba79-38f334d3ca4e",
   "metadata": {},
   "outputs": [],
   "source": [
    "optics_res[-4].targets"
   ]
  },
  {
   "cell_type": "code",
   "execution_count": null,
   "id": "92614e78-bea0-4fea-8e07-3d829801d080",
   "metadata": {},
   "outputs": [],
   "source": [
    "draw_plot(df, hue=optics_res[-4].targets)"
   ]
  },
  {
   "cell_type": "code",
   "execution_count": null,
   "id": "14dd2d75-80b8-4280-a3af-917769ee4797",
   "metadata": {},
   "outputs": [],
   "source": []
  },
  {
   "cell_type": "markdown",
   "id": "f99ee455-bd2a-4387-b7ea-cf720b0f7123",
   "metadata": {},
   "source": [
    "---\n",
    "<a id='model-eval'></a>"
   ]
  },
  {
   "cell_type": "markdown",
   "id": "0ebc48f3-afc8-41f8-b7cc-2b201bb40bd1",
   "metadata": {},
   "source": [
    "## 4. Model Evaluation\n",
    "\n",
    "bla"
   ]
  },
  {
   "cell_type": "markdown",
   "id": "3dbc978b-f510-4c9b-b11a-075baa281a18",
   "metadata": {},
   "source": [
    "---\n",
    "<a id='results'></a>"
   ]
  },
  {
   "cell_type": "markdown",
   "id": "2739560c-68d9-4117-bfc4-d3bf2d7cd4ca",
   "metadata": {},
   "source": [
    "## 5. Results\n",
    "\n",
    "bla"
   ]
  },
  {
   "cell_type": "markdown",
   "id": "ffbadb09-3df0-44c0-8b05-4da97c228cb6",
   "metadata": {},
   "source": [
    "---\n",
    "<a id='ref'></a>"
   ]
  },
  {
   "cell_type": "markdown",
   "id": "63e0230c-c730-459d-8091-df1715975467",
   "metadata": {},
   "source": [
    "## References\n",
    "\n",
    "<p> [1] http://archive.ics.uci.edu/ml/datasets/Smartphone-Based+Recognition+of+Human+Activities+and+Postural+Transitions"
   ]
  },
  {
   "cell_type": "code",
   "execution_count": null,
   "id": "e036044d-4c18-4711-811a-75cf63dc3e30",
   "metadata": {},
   "outputs": [],
   "source": []
  }
 ],
 "metadata": {
  "kernelspec": {
   "display_name": "mms",
   "language": "python",
   "name": "mms"
  },
  "language_info": {
   "codemirror_mode": {
    "name": "ipython",
    "version": 3
   },
   "file_extension": ".py",
   "mimetype": "text/x-python",
   "name": "python",
   "nbconvert_exporter": "python",
   "pygments_lexer": "ipython3",
   "version": "3.9.13"
  }
 },
 "nbformat": 4,
 "nbformat_minor": 5
}
