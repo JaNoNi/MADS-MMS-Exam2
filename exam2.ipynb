{
 "cells": [
  {
   "cell_type": "markdown",
   "id": "fe12c956-bdc7-405f-89bb-73656f14b7bb",
   "metadata": {},
   "source": [
    "# Human Activity Recognition based on Smartphones sensors.\n",
    "---\n",
    "<b>MADS-MMS Portfolio-Exam Part 2<br>\n",
    "Janosch Höfer, 938969</b>"
   ]
  },
  {
   "cell_type": "markdown",
   "id": "a1c21e64-cf43-466b-87d1-0d211e1b06c3",
   "metadata": {},
   "source": [
    "## Table of contents\n",
    "\n",
    "- [Introduction](#intro) <br>\n",
    "- [1. Data preparation](#data-prep) <br>\n",
    "- [2. Parameters](#parameters) <br>\n",
    "- [3. Model setup and Crossvalidation](#model-setup) <br>\n",
    "   - [3.1. Bla?](#NN) <br>\n",
    "- [4. Model Evaluation](#model-eval) <br>\n",
    "- [5. Results](#results)<br>\n",
    "- [References](#ref)<br>"
   ]
  },
  {
   "cell_type": "markdown",
   "id": "45565406-0b20-4068-9147-9ad734714b8b",
   "metadata": {},
   "source": [
    "## Introduction\n",
    "\n",
    "bla<br>\n",
    "Using [[1]](http://archive.ics.uci.edu/ml/datasets/Smartphone-Based+Recognition+of+Human+Activities+and+Postural+Transitions)"
   ]
  },
  {
   "cell_type": "code",
   "execution_count": 19,
   "id": "837f2b17-b3b1-4f94-8a56-2bd201616743",
   "metadata": {},
   "outputs": [],
   "source": [
    "# Standard libraries\n",
    "import os\n",
    "\n",
    "import matplotlib.pyplot as plt\n",
    "import numpy as np\n",
    "import pandas as pd\n",
    "\n",
    "# Own classes and functions"
   ]
  },
  {
   "cell_type": "markdown",
   "id": "efb875a5-27c3-44cd-972b-239a85a220d1",
   "metadata": {},
   "source": [
    "---\n",
    "<a id='data-prep'></a>"
   ]
  },
  {
   "cell_type": "markdown",
   "id": "219a6311-f408-4997-bcd4-e84bd851164b",
   "metadata": {},
   "source": [
    "## 1. Data preparation\n",
    "\n",
    "bla"
   ]
  },
  {
   "cell_type": "code",
   "execution_count": 18,
   "id": "94e42ffe-a4c8-4c6f-b35a-f4e808aff483",
   "metadata": {},
   "outputs": [],
   "source": [
    "path_to_data = \"data\"  # dir where the zip has been extracted\n",
    "experiment_types = [\"acc\", \"gyro\"]"
   ]
  },
  {
   "cell_type": "code",
   "execution_count": 21,
   "id": "b1959a72-5d4f-4ae3-ad50-4d16a1c0f39e",
   "metadata": {},
   "outputs": [],
   "source": [
    "labels = pd.read_csv(\n",
    "    os.path.join(path_to_data, \"RawData\", \"labels.txt\"),\n",
    "    header=None,\n",
    "    sep=\" \",\n",
    "    names=[\"experiment_id\", \"user_id\", \"activity_id\", \"start\", \"end\"],\n",
    ")"
   ]
  },
  {
   "cell_type": "code",
   "execution_count": 28,
   "id": "8619d6f0-6ae8-477c-9c0f-2af3d507185c",
   "metadata": {},
   "outputs": [
    {
     "data": {
      "text/html": [
       "<div>\n",
       "<style scoped>\n",
       "    .dataframe tbody tr th:only-of-type {\n",
       "        vertical-align: middle;\n",
       "    }\n",
       "\n",
       "    .dataframe tbody tr th {\n",
       "        vertical-align: top;\n",
       "    }\n",
       "\n",
       "    .dataframe thead th {\n",
       "        text-align: right;\n",
       "    }\n",
       "</style>\n",
       "<table border=\"1\" class=\"dataframe\">\n",
       "  <thead>\n",
       "    <tr style=\"text-align: right;\">\n",
       "      <th></th>\n",
       "      <th>experiment_id</th>\n",
       "      <th>user_id</th>\n",
       "      <th>activity_id</th>\n",
       "      <th>start</th>\n",
       "      <th>end</th>\n",
       "    </tr>\n",
       "  </thead>\n",
       "  <tbody>\n",
       "    <tr>\n",
       "      <th>0</th>\n",
       "      <td>1</td>\n",
       "      <td>1</td>\n",
       "      <td>5</td>\n",
       "      <td>250</td>\n",
       "      <td>1232</td>\n",
       "    </tr>\n",
       "    <tr>\n",
       "      <th>1</th>\n",
       "      <td>1</td>\n",
       "      <td>1</td>\n",
       "      <td>7</td>\n",
       "      <td>1233</td>\n",
       "      <td>1392</td>\n",
       "    </tr>\n",
       "    <tr>\n",
       "      <th>2</th>\n",
       "      <td>1</td>\n",
       "      <td>1</td>\n",
       "      <td>4</td>\n",
       "      <td>1393</td>\n",
       "      <td>2194</td>\n",
       "    </tr>\n",
       "    <tr>\n",
       "      <th>3</th>\n",
       "      <td>1</td>\n",
       "      <td>1</td>\n",
       "      <td>8</td>\n",
       "      <td>2195</td>\n",
       "      <td>2359</td>\n",
       "    </tr>\n",
       "    <tr>\n",
       "      <th>4</th>\n",
       "      <td>1</td>\n",
       "      <td>1</td>\n",
       "      <td>5</td>\n",
       "      <td>2360</td>\n",
       "      <td>3374</td>\n",
       "    </tr>\n",
       "    <tr>\n",
       "      <th>...</th>\n",
       "      <td>...</td>\n",
       "      <td>...</td>\n",
       "      <td>...</td>\n",
       "      <td>...</td>\n",
       "      <td>...</td>\n",
       "    </tr>\n",
       "    <tr>\n",
       "      <th>1209</th>\n",
       "      <td>61</td>\n",
       "      <td>30</td>\n",
       "      <td>2</td>\n",
       "      <td>13842</td>\n",
       "      <td>14574</td>\n",
       "    </tr>\n",
       "    <tr>\n",
       "      <th>1210</th>\n",
       "      <td>61</td>\n",
       "      <td>30</td>\n",
       "      <td>3</td>\n",
       "      <td>14751</td>\n",
       "      <td>15427</td>\n",
       "    </tr>\n",
       "    <tr>\n",
       "      <th>1211</th>\n",
       "      <td>61</td>\n",
       "      <td>30</td>\n",
       "      <td>2</td>\n",
       "      <td>15588</td>\n",
       "      <td>16319</td>\n",
       "    </tr>\n",
       "    <tr>\n",
       "      <th>1212</th>\n",
       "      <td>61</td>\n",
       "      <td>30</td>\n",
       "      <td>3</td>\n",
       "      <td>16546</td>\n",
       "      <td>17250</td>\n",
       "    </tr>\n",
       "    <tr>\n",
       "      <th>1213</th>\n",
       "      <td>61</td>\n",
       "      <td>30</td>\n",
       "      <td>2</td>\n",
       "      <td>17394</td>\n",
       "      <td>18097</td>\n",
       "    </tr>\n",
       "  </tbody>\n",
       "</table>\n",
       "<p>1214 rows × 5 columns</p>\n",
       "</div>"
      ],
      "text/plain": [
       "      experiment_id  user_id  activity_id  start    end\n",
       "0                 1        1            5    250   1232\n",
       "1                 1        1            7   1233   1392\n",
       "2                 1        1            4   1393   2194\n",
       "3                 1        1            8   2195   2359\n",
       "4                 1        1            5   2360   3374\n",
       "...             ...      ...          ...    ...    ...\n",
       "1209             61       30            2  13842  14574\n",
       "1210             61       30            3  14751  15427\n",
       "1211             61       30            2  15588  16319\n",
       "1212             61       30            3  16546  17250\n",
       "1213             61       30            2  17394  18097\n",
       "\n",
       "[1214 rows x 5 columns]"
      ]
     },
     "execution_count": 28,
     "metadata": {},
     "output_type": "execute_result"
    }
   ],
   "source": [
    "labels"
   ]
  },
  {
   "cell_type": "code",
   "execution_count": 51,
   "id": "5fafa075-df75-484d-b73a-6ed25bbea145",
   "metadata": {},
   "outputs": [],
   "source": [
    "def create_activity_window(\n",
    "    path_to_data: str,\n",
    "    exp_type: str,\n",
    "    exp_id: int,\n",
    "    user_id: int,\n",
    "    activity_id: int,\n",
    "    start_point: int,\n",
    "    end_point: int,\n",
    ") -> pd.DataFrame:\n",
    "    filename = f\"{exp_type}_exp{exp_id:02d}_user{user_id:02d}.txt\"\n",
    "    filedir = os.path.join(path_to_data, \"RawData\", filename)\n",
    "    activity = pd.read_csv(filedir, sep=\" \", header=None, names=[\"x\", \"y\", \"z\"])[start:end]\n",
    "    return activity"
   ]
  },
  {
   "cell_type": "code",
   "execution_count": 52,
   "id": "8e9afa10-729c-46a0-9a7d-0155bd0561ad",
   "metadata": {},
   "outputs": [],
   "source": [
    "for row in labels.iterrows():\n",
    "    entry = row[1]\n",
    "    activity = create_activity_window(\n",
    "        path_to_data=path_to_data,\n",
    "        exp_type=\"acc\",\n",
    "        exp_id=entry[\"experiment_id\"],\n",
    "        user_id=entry[\"user_id\"],\n",
    "        activity_id=entry[\"activity_id\"],\n",
    "        start_point=entry[\"start\"],\n",
    "        end_point=entry[\"end\"],\n",
    "    )\n",
    "    break"
   ]
  },
  {
   "cell_type": "code",
   "execution_count": 53,
   "id": "765e7b62-d4c5-4528-9008-27818da8b3a0",
   "metadata": {},
   "outputs": [
    {
     "data": {
      "text/html": [
       "<div>\n",
       "<style scoped>\n",
       "    .dataframe tbody tr th:only-of-type {\n",
       "        vertical-align: middle;\n",
       "    }\n",
       "\n",
       "    .dataframe tbody tr th {\n",
       "        vertical-align: top;\n",
       "    }\n",
       "\n",
       "    .dataframe thead th {\n",
       "        text-align: right;\n",
       "    }\n",
       "</style>\n",
       "<table border=\"1\" class=\"dataframe\">\n",
       "  <thead>\n",
       "    <tr style=\"text-align: right;\">\n",
       "      <th></th>\n",
       "      <th>x</th>\n",
       "      <th>y</th>\n",
       "      <th>z</th>\n",
       "    </tr>\n",
       "  </thead>\n",
       "  <tbody>\n",
       "    <tr>\n",
       "      <th>250</th>\n",
       "      <td>1.020833</td>\n",
       "      <td>-0.125000</td>\n",
       "      <td>0.105556</td>\n",
       "    </tr>\n",
       "    <tr>\n",
       "      <th>251</th>\n",
       "      <td>1.025000</td>\n",
       "      <td>-0.125000</td>\n",
       "      <td>0.101389</td>\n",
       "    </tr>\n",
       "    <tr>\n",
       "      <th>252</th>\n",
       "      <td>1.020833</td>\n",
       "      <td>-0.125000</td>\n",
       "      <td>0.104167</td>\n",
       "    </tr>\n",
       "    <tr>\n",
       "      <th>253</th>\n",
       "      <td>1.016667</td>\n",
       "      <td>-0.125000</td>\n",
       "      <td>0.108333</td>\n",
       "    </tr>\n",
       "    <tr>\n",
       "      <th>254</th>\n",
       "      <td>1.018056</td>\n",
       "      <td>-0.127778</td>\n",
       "      <td>0.108333</td>\n",
       "    </tr>\n",
       "    <tr>\n",
       "      <th>...</th>\n",
       "      <td>...</td>\n",
       "      <td>...</td>\n",
       "      <td>...</td>\n",
       "    </tr>\n",
       "    <tr>\n",
       "      <th>1227</th>\n",
       "      <td>1.019445</td>\n",
       "      <td>-0.134722</td>\n",
       "      <td>0.073611</td>\n",
       "    </tr>\n",
       "    <tr>\n",
       "      <th>1228</th>\n",
       "      <td>1.022222</td>\n",
       "      <td>-0.137500</td>\n",
       "      <td>0.077778</td>\n",
       "    </tr>\n",
       "    <tr>\n",
       "      <th>1229</th>\n",
       "      <td>1.025000</td>\n",
       "      <td>-0.137500</td>\n",
       "      <td>0.076389</td>\n",
       "    </tr>\n",
       "    <tr>\n",
       "      <th>1230</th>\n",
       "      <td>1.030556</td>\n",
       "      <td>-0.144444</td>\n",
       "      <td>0.079167</td>\n",
       "    </tr>\n",
       "    <tr>\n",
       "      <th>1231</th>\n",
       "      <td>1.016667</td>\n",
       "      <td>-0.143056</td>\n",
       "      <td>0.058333</td>\n",
       "    </tr>\n",
       "  </tbody>\n",
       "</table>\n",
       "<p>982 rows × 3 columns</p>\n",
       "</div>"
      ],
      "text/plain": [
       "             x         y         z\n",
       "250   1.020833 -0.125000  0.105556\n",
       "251   1.025000 -0.125000  0.101389\n",
       "252   1.020833 -0.125000  0.104167\n",
       "253   1.016667 -0.125000  0.108333\n",
       "254   1.018056 -0.127778  0.108333\n",
       "...        ...       ...       ...\n",
       "1227  1.019445 -0.134722  0.073611\n",
       "1228  1.022222 -0.137500  0.077778\n",
       "1229  1.025000 -0.137500  0.076389\n",
       "1230  1.030556 -0.144444  0.079167\n",
       "1231  1.016667 -0.143056  0.058333\n",
       "\n",
       "[982 rows x 3 columns]"
      ]
     },
     "execution_count": 53,
     "metadata": {},
     "output_type": "execute_result"
    }
   ],
   "source": [
    "activity"
   ]
  },
  {
   "cell_type": "markdown",
   "id": "87d98730-fa67-4cf2-a136-0455839786d2",
   "metadata": {},
   "source": [
    "---\n",
    "<a id='parameters'></a>"
   ]
  },
  {
   "cell_type": "markdown",
   "id": "88f4244e-27b7-4193-bfbd-b2126c9d0085",
   "metadata": {
    "tags": []
   },
   "source": [
    "## 2. Parameters\n",
    "\n",
    "bla"
   ]
  },
  {
   "cell_type": "markdown",
   "id": "1ce3eafc-7803-40b0-bc30-45d3f3a6836a",
   "metadata": {},
   "source": [
    "---\n",
    "<a id='split'></a>"
   ]
  },
  {
   "cell_type": "markdown",
   "id": "96d331f6-088f-4ef5-b3e9-d219c8efac0f",
   "metadata": {},
   "source": [
    "## 3. Model setup and Crossvalidation\n",
    "<a id='NN'></a>\n",
    "### 3.1 Bla?\n",
    "\n",
    "bla"
   ]
  },
  {
   "cell_type": "markdown",
   "id": "f99ee455-bd2a-4387-b7ea-cf720b0f7123",
   "metadata": {},
   "source": [
    "---\n",
    "<a id='model-eval'></a>"
   ]
  },
  {
   "cell_type": "markdown",
   "id": "0ebc48f3-afc8-41f8-b7cc-2b201bb40bd1",
   "metadata": {},
   "source": [
    "## 4. Model Evaluation\n",
    "\n",
    "bla"
   ]
  },
  {
   "cell_type": "markdown",
   "id": "3dbc978b-f510-4c9b-b11a-075baa281a18",
   "metadata": {},
   "source": [
    "---\n",
    "<a id='results'></a>"
   ]
  },
  {
   "cell_type": "markdown",
   "id": "2739560c-68d9-4117-bfc4-d3bf2d7cd4ca",
   "metadata": {},
   "source": [
    "## 5. Results\n",
    "\n",
    "bla"
   ]
  },
  {
   "cell_type": "markdown",
   "id": "ffbadb09-3df0-44c0-8b05-4da97c228cb6",
   "metadata": {},
   "source": [
    "---\n",
    "<a id='ref'></a>"
   ]
  },
  {
   "cell_type": "markdown",
   "id": "63e0230c-c730-459d-8091-df1715975467",
   "metadata": {},
   "source": [
    "## References\n",
    "\n",
    "<p> [1] http://archive.ics.uci.edu/ml/datasets/Smartphone-Based+Recognition+of+Human+Activities+and+Postural+Transitions"
   ]
  },
  {
   "cell_type": "code",
   "execution_count": null,
   "id": "e036044d-4c18-4711-811a-75cf63dc3e30",
   "metadata": {},
   "outputs": [],
   "source": []
  }
 ],
 "metadata": {
  "kernelspec": {
   "display_name": "MMS",
   "language": "python",
   "name": "mms"
  },
  "language_info": {
   "codemirror_mode": {
    "name": "ipython",
    "version": 3
   },
   "file_extension": ".py",
   "mimetype": "text/x-python",
   "name": "python",
   "nbconvert_exporter": "python",
   "pygments_lexer": "ipython3",
   "version": "3.9.7"
  }
 },
 "nbformat": 4,
 "nbformat_minor": 5
}
