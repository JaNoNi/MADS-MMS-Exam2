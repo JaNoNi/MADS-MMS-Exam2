{
 "cells": [
  {
   "cell_type": "markdown",
   "id": "fe12c956-bdc7-405f-89bb-73656f14b7bb",
   "metadata": {},
   "source": [
    "# Human Activity Recognition based on Smartphones sensors.\n",
    "---\n",
    "<b>MADS-MMS Portfolio-Exam Part 2<br>\n",
    "Janosch Höfer, 938969</b>"
   ]
  },
  {
   "cell_type": "markdown",
   "id": "a1c21e64-cf43-466b-87d1-0d211e1b06c3",
   "metadata": {},
   "source": [
    "## Table of contents\n",
    "\n",
    "- [Introduction](#intro) <br>\n",
    "- [1. Data preparation](#data-prep) <br>\n",
    "- [2. Parameters](#parameters) <br>\n",
    "- [3. Model setup and Crossvalidation](#model-setup) <br>\n",
    "   - [3.1. Bla?](#NN) <br>\n",
    "- [4. Model Evaluation](#model-eval) <br>\n",
    "- [5. Results](#results)<br>\n",
    "- [References](#ref)<br>"
   ]
  },
  {
   "cell_type": "markdown",
   "id": "45565406-0b20-4068-9147-9ad734714b8b",
   "metadata": {},
   "source": [
    "## Introduction\n",
    "\n",
    "bla<br>\n",
    "Using [[1]](http://archive.ics.uci.edu/ml/datasets/Smartphone-Based+Recognition+of+Human+Activities+and+Postural+Transitions)"
   ]
  },
  {
   "cell_type": "code",
   "execution_count": null,
   "id": "837f2b17-b3b1-4f94-8a56-2bd201616743",
   "metadata": {},
   "outputs": [],
   "source": [
    "# Standard libraries\n",
    "import os\n",
    "\n",
    "import numpy as np\n",
    "import pandas as pd\n",
    "import re\n",
    "\n",
    "# Own classes and functions\n",
    "from helper_functions.data_manipulation import (\n",
    "    create_activity_window,\n",
    "    open_raw_data,\n",
    "    setup_raw_data,\n",
    ")"
   ]
  },
  {
   "cell_type": "markdown",
   "id": "efb875a5-27c3-44cd-972b-239a85a220d1",
   "metadata": {},
   "source": [
    "---\n",
    "<a id='data-prep'></a>"
   ]
  },
  {
   "cell_type": "markdown",
   "id": "219a6311-f408-4997-bcd4-e84bd851164b",
   "metadata": {},
   "source": [
    "## 1. Data preparation\n",
    "\n",
    "bla"
   ]
  },
  {
   "cell_type": "code",
   "execution_count": null,
   "id": "94e42ffe-a4c8-4c6f-b35a-f4e808aff483",
   "metadata": {},
   "outputs": [],
   "source": [
    "path_to_data = \"data\"  # dir where the zip has been extracted\n",
    "data_url = \"http://archive.ics.uci.edu/ml/machine-learning-databases/00341/HAPT%20Data%20Set.zip\"\n",
    "experiment_types = [\"acc\", \"gyro\"]"
   ]
  },
  {
   "cell_type": "code",
   "execution_count": null,
   "id": "bdba0c89-4d2b-455e-9178-ae1ac28e705d",
   "metadata": {},
   "outputs": [],
   "source": [
    "# Check for data\n",
    "if os.path.isdir(path_to_data):\n",
    "    dir_count = [_dir for _dir in os.listdir(path_to_data) if _dir in [\"RawData\", \"Test\", \"Train\"]]\n",
    "    if len(dir_count) != 3:\n",
    "        print(\"Data folder found, but it does not contain the right data. Downloading...\")\n",
    "        setup_raw_data(data_url, path_to_data)\n",
    "    else:\n",
    "        print(\"Found the correct data.\")\n",
    "else:\n",
    "    print(\"Data not found. Downloading...\")\n",
    "    setup_raw_data(data_url, path_to_data)"
   ]
  },
  {
   "cell_type": "code",
   "execution_count": null,
   "id": "b1959a72-5d4f-4ae3-ad50-4d16a1c0f39e",
   "metadata": {},
   "outputs": [],
   "source": [
    "labels = pd.read_csv(\n",
    "    os.path.join(path_to_data, \"RawData\", \"labels.txt\"),\n",
    "    header=None,\n",
    "    sep=\" \",\n",
    "    names=[\"experiment_id\", \"user_id\", \"activity_id\", \"start\", \"end\"],\n",
    ")"
   ]
  },
  {
   "cell_type": "code",
   "execution_count": null,
   "id": "8619d6f0-6ae8-477c-9c0f-2af3d507185c",
   "metadata": {},
   "outputs": [],
   "source": [
    "labels.head()"
   ]
  },
  {
   "cell_type": "markdown",
   "id": "373fe624-27dc-4fb8-ad38-3d481d237444",
   "metadata": {},
   "source": [
    "Example data"
   ]
  },
  {
   "cell_type": "code",
   "execution_count": null,
   "id": "4b9a5a31-b3ac-4fba-b61b-932bf6784f69",
   "metadata": {},
   "outputs": [],
   "source": [
    "# Example code used by underlying functions\n",
    "experiment_data = {\n",
    "    exp_type: open_raw_data(path_to_data, exp_type, 1, 1) for exp_type in experiment_types\n",
    "}\n",
    "exp_types = list(experiment_data.keys())\n",
    "first_type = exp_types.pop(0)\n",
    "_df = pd.DataFrame(experiment_data[first_type]).add_prefix(f\"{first_type}_\")\n",
    "for sub_type in exp_types:\n",
    "    _df = pd.merge(\n",
    "        _df,\n",
    "        pd.DataFrame(experiment_data[sub_type]).add_prefix(f\"{sub_type}_\"),\n",
    "        left_index=True,\n",
    "        right_index=True,\n",
    "    )\n",
    "_df.head()"
   ]
  },
  {
   "cell_type": "markdown",
   "id": "c6fee3d6-47b1-4ef4-a5ec-a5bd95282bbc",
   "metadata": {},
   "source": [
    "Example data single row"
   ]
  },
  {
   "cell_type": "code",
   "execution_count": null,
   "id": "a819e4a4-7310-4e25-9a59-7f1218a0d5f3",
   "metadata": {},
   "outputs": [],
   "source": [
    "# Example code used by underlying functions\n",
    "agg_funcs = [np.mean, np.min, np.max]\n",
    "df_stacked = _df.iloc[250:500, :].agg(agg_funcs).stack().swaplevel()\n",
    "df_stacked.index = df_stacked.index.map(\"{0[1]}_{0[0]}\".format)\n",
    "df_stacked.to_frame().T"
   ]
  },
  {
   "cell_type": "code",
   "execution_count": null,
   "id": "82c2f3b7-7652-4c10-999f-dad4a3d5fb86",
   "metadata": {},
   "outputs": [],
   "source": [
    "agg_functions = [np.mean, np.min, np.max]\n",
    "\n",
    "exp_results = list()\n",
    "for (exp_id, user_id), activity_df in labels.groupby([\"experiment_id\", \"user_id\"]):\n",
    "    experiment_data = {\n",
    "        exp_type: open_raw_data(path_to_data, exp_type, exp_id, user_id)\n",
    "        for exp_type in experiment_types\n",
    "    }\n",
    "    for act_idx in range(len(activity_df)):\n",
    "        _df = create_activity_window(\n",
    "            experiment_data,\n",
    "            agg_functions,\n",
    "            activity_df.iloc[act_idx][\"start\"],\n",
    "            activity_df.iloc[act_idx][\"end\"],\n",
    "        )\n",
    "        _df[\"exp_id\"] = exp_id\n",
    "        _df[\"user_id\"] = user_id\n",
    "        _df[\"activity_id\"] = activity_df.iloc[act_idx][\"activity_id\"]\n",
    "        exp_results.append(_df)\n",
    "df = pd.concat(exp_results)"
   ]
  },
  {
   "cell_type": "code",
   "execution_count": null,
   "id": "f3e8b1d2-3766-4059-84d7-3146c11e5763",
   "metadata": {},
   "outputs": [],
   "source": [
    "df"
   ]
  },
  {
   "cell_type": "markdown",
   "id": "c7bf5a78-1999-41e2-9865-85f268ba2d90",
   "metadata": {},
   "source": [
    "Loading the prepared data."
   ]
  },
  {
   "cell_type": "code",
   "execution_count": null,
   "id": "21e2ae4b-fa90-4c6a-b767-3c15455b0c9e",
   "metadata": {},
   "outputs": [],
   "source": [
    "feature_dir = os.path.join(path_to_data, \"features.txt\")\n",
    "with open(feature_dir) as file:\n",
    "    features = [row.rstrip(\"\\n\").rstrip() for row in file]"
   ]
  },
  {
   "cell_type": "code",
   "execution_count": null,
   "id": "45052969-7aab-4b1a-a25e-a7b3541dd880",
   "metadata": {},
   "outputs": [],
   "source": [
    "len(features), len(set(features))"
   ]
  },
  {
   "cell_type": "code",
   "execution_count": null,
   "id": "672c9f26-dbf0-41fc-8451-a75ea7115fab",
   "metadata": {},
   "outputs": [],
   "source": [
    "replace_dict = {\"ropy\": [1, \"\"], \"Kurtosis\": [1, \"\"], \"Skewness\": [1, \"\"]}\n",
    "new_features = list()\n",
    "for row in features:\n",
    "    reg_idx = re.findall(\"[^-]*[^-]\", row)[1]\n",
    "    if replace_dict.get(reg_idx):\n",
    "        if row == replace_dict[reg_idx][1]:\n",
    "            replace_dict[reg_idx][0] += 1\n",
    "            row = row.replace(\"-1\", f\"-{replace_dict[reg_idx][0]}\")\n",
    "        else:\n",
    "            replace_dict[reg_idx][0] = 1\n",
    "            replace_dict[reg_idx][1] = row\n",
    "    new_features.append(row)"
   ]
  },
  {
   "cell_type": "code",
   "execution_count": null,
   "id": "f396a6d0-4ce2-4c45-ad2d-2f6a6d61f360",
   "metadata": {},
   "outputs": [],
   "source": [
    "len(features), len(set(new_features))"
   ]
  },
  {
   "cell_type": "code",
   "execution_count": null,
   "id": "af3557fd-71bf-4484-b879-ce2c261cfbbb",
   "metadata": {},
   "outputs": [],
   "source": [
    "data_path = os.path.join(path_to_data, \"Train\", \"X_train.txt\")\n",
    "df_full = pd.read_csv(data_path, sep=\" \", header=None, names=new_features)"
   ]
  },
  {
   "cell_type": "code",
   "execution_count": null,
   "id": "c2e15f53-08da-48bf-9813-3293d70dbb6b",
   "metadata": {},
   "outputs": [],
   "source": [
    "df_full"
   ]
  },
  {
   "cell_type": "markdown",
   "id": "87d98730-fa67-4cf2-a136-0455839786d2",
   "metadata": {},
   "source": [
    "---\n",
    "<a id='parameters'></a>"
   ]
  },
  {
   "cell_type": "markdown",
   "id": "88f4244e-27b7-4193-bfbd-b2126c9d0085",
   "metadata": {
    "tags": []
   },
   "source": [
    "## 2. Parameters\n",
    "\n",
    "bla"
   ]
  },
  {
   "cell_type": "markdown",
   "id": "1ce3eafc-7803-40b0-bc30-45d3f3a6836a",
   "metadata": {},
   "source": [
    "---\n",
    "<a id='split'></a>"
   ]
  },
  {
   "cell_type": "markdown",
   "id": "96d331f6-088f-4ef5-b3e9-d219c8efac0f",
   "metadata": {},
   "source": [
    "## 3. Model setup and Crossvalidation\n",
    "<a id='NN'></a>\n",
    "### 3.1 Bla?\n",
    "\n",
    "bla"
   ]
  },
  {
   "cell_type": "markdown",
   "id": "f99ee455-bd2a-4387-b7ea-cf720b0f7123",
   "metadata": {},
   "source": [
    "---\n",
    "<a id='model-eval'></a>"
   ]
  },
  {
   "cell_type": "markdown",
   "id": "0ebc48f3-afc8-41f8-b7cc-2b201bb40bd1",
   "metadata": {},
   "source": [
    "## 4. Model Evaluation\n",
    "\n",
    "bla"
   ]
  },
  {
   "cell_type": "markdown",
   "id": "3dbc978b-f510-4c9b-b11a-075baa281a18",
   "metadata": {},
   "source": [
    "---\n",
    "<a id='results'></a>"
   ]
  },
  {
   "cell_type": "markdown",
   "id": "2739560c-68d9-4117-bfc4-d3bf2d7cd4ca",
   "metadata": {},
   "source": [
    "## 5. Results\n",
    "\n",
    "bla"
   ]
  },
  {
   "cell_type": "markdown",
   "id": "ffbadb09-3df0-44c0-8b05-4da97c228cb6",
   "metadata": {},
   "source": [
    "---\n",
    "<a id='ref'></a>"
   ]
  },
  {
   "cell_type": "markdown",
   "id": "63e0230c-c730-459d-8091-df1715975467",
   "metadata": {},
   "source": [
    "## References\n",
    "\n",
    "<p> [1] http://archive.ics.uci.edu/ml/datasets/Smartphone-Based+Recognition+of+Human+Activities+and+Postural+Transitions"
   ]
  },
  {
   "cell_type": "code",
   "execution_count": null,
   "id": "e036044d-4c18-4711-811a-75cf63dc3e30",
   "metadata": {},
   "outputs": [],
   "source": []
  }
 ],
 "metadata": {
  "kernelspec": {
   "display_name": "MMS",
   "language": "python",
   "name": "mms"
  },
  "language_info": {
   "codemirror_mode": {
    "name": "ipython",
    "version": 3
   },
   "file_extension": ".py",
   "mimetype": "text/x-python",
   "name": "python",
   "nbconvert_exporter": "python",
   "pygments_lexer": "ipython3",
   "version": "3.9.7"
  }
 },
 "nbformat": 4,
 "nbformat_minor": 5
}
