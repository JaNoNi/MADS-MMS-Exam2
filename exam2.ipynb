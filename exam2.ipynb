{
 "cells": [
  {
   "cell_type": "markdown",
   "id": "fe12c956-bdc7-405f-89bb-73656f14b7bb",
   "metadata": {},
   "source": [
    "# Clustering of Google Reviews of Traveling Sites\n",
    "## Evaluation whether a recommender is feasible.\n",
    "---\n",
    "<b>MADS-MMS Portfolio-Exam Part 2<br>\n",
    "Janosch Höfer, 938969</b>"
   ]
  },
  {
   "cell_type": "markdown",
   "id": "a1c21e64-cf43-466b-87d1-0d211e1b06c3",
   "metadata": {},
   "source": [
    "## Table of contents\n",
    "\n",
    "- [Introduction](#intro) <br>\n",
    "- [1. Data Exploration](#data-prep) <br>\n",
    "    - [1.1. Data Engineering](#dataeng) <br>\n",
    "    - [1.2. Data Visualization](#datavis) <br>\n",
    "    - [1.3. Data Reduction](#datared) <br>\n",
    "- [2. Parameters](#parameters) <br>\n",
    "- [3. Model setup](#model-setup) <br>\n",
    "   - [3.1. K-Means](#kmean) <br>\n",
    "   - [3.2. HAC](#hac)<br>\n",
    "   - [3.3. OPTICS](#optics) <br>\n",
    "- [4. Model Evaluation](#model-eval) <br>\n",
    "    - [4.1. K-Means](#evalkmean) <br>\n",
    "    - [4.2. HAC](#evalhac) <br>\n",
    "    - [4.3. OPTICS](#evaloptics) <br>\n",
    "- [5. Results](#results)<br>\n",
    "- [References](#ref)<br>"
   ]
  },
  {
   "cell_type": "markdown",
   "id": "45565406-0b20-4068-9147-9ad734714b8b",
   "metadata": {},
   "source": [
    "## Introduction"
   ]
  },
  {
   "cell_type": "code",
   "execution_count": null,
   "id": "837f2b17-b3b1-4f94-8a56-2bd201616743",
   "metadata": {},
   "outputs": [],
   "source": [
    "# Standard libraries\n",
    "import os\n",
    "import itertools\n",
    "\n",
    "import numpy as np\n",
    "import pandas as pd\n",
    "import matplotlib.pyplot as plt\n",
    "import matplotlib.ticker as mtick\n",
    "import seaborn as sns\n",
    "from sklearn.cluster import OPTICS, AgglomerativeClustering, cluster_optics_dbscan\n",
    "from sklearn.metrics import confusion_matrix, ConfusionMatrixDisplay\n",
    "from tqdm.notebook import tqdm\n",
    "\n",
    "# Own classes and functions\n",
    "from helper_functions.data_manipulation import setup_raw_data\n",
    "from helper_functions.plot_clusters import draw_plot, OPTICSResults, CMAP_PLT"
   ]
  },
  {
   "cell_type": "code",
   "execution_count": null,
   "id": "572b5b8c-88b0-469d-b1f8-784e232aa1a7",
   "metadata": {},
   "outputs": [],
   "source": [
    "pd.set_option(\"display.max_columns\", 25)"
   ]
  },
  {
   "cell_type": "markdown",
   "id": "0d2ef5ed-5ba2-4a09-9fd5-cc0d7ffb30dc",
   "metadata": {},
   "source": [
    "bla<br>\n",
    "Using [[1]](https://archive.ics.uci.edu/ml/datasets/Tarvel+Review+Ratings)"
   ]
  },
  {
   "cell_type": "markdown",
   "id": "efb875a5-27c3-44cd-972b-239a85a220d1",
   "metadata": {},
   "source": [
    "---\n",
    "<a id='data-prep'></a>"
   ]
  },
  {
   "cell_type": "markdown",
   "id": "219a6311-f408-4997-bcd4-e84bd851164b",
   "metadata": {},
   "source": [
    "## 1. Data Exploration\n",
    "<a id='dataeng'></a>\n",
    "### 1.1. Data Engineering\n",
    "\n",
    "bla"
   ]
  },
  {
   "cell_type": "code",
   "execution_count": null,
   "id": "a3ca2279-ba10-43b3-9ab7-6078a041cee8",
   "metadata": {},
   "outputs": [],
   "source": [
    "path_to_data = \"data\"\n",
    "data_url = (\n",
    "    \"https://archive.ics.uci.edu/ml/machine-learning-databases/00485/google_review_ratings.csv\"\n",
    ")\n",
    "filename = \"google_review_ratings.csv\""
   ]
  },
  {
   "cell_type": "code",
   "execution_count": null,
   "id": "bdba0c89-4d2b-455e-9178-ae1ac28e705d",
   "metadata": {},
   "outputs": [],
   "source": [
    "# Check for data\n",
    "setup_raw_data(data_url, path_to_data, filename)"
   ]
  },
  {
   "cell_type": "code",
   "execution_count": null,
   "id": "b1959a72-5d4f-4ae3-ad50-4d16a1c0f39e",
   "metadata": {},
   "outputs": [],
   "source": [
    "features = [\n",
    "    \"churches\",\n",
    "    \"resorts\",\n",
    "    \"beaches\",\n",
    "    \"parks\",\n",
    "    \"theatres\",\n",
    "    \"museums\",\n",
    "    \"malls\",\n",
    "    \"zoo\",\n",
    "    \"restaurants\",\n",
    "    \"pubs_bars\",\n",
    "    \"local_services\",\n",
    "    \"burger_pizza_shops\",\n",
    "    \"hotels_other_lodgings\",\n",
    "    \"juice_bars\",\n",
    "    \"art_galleries\",\n",
    "    \"dance_clubs\",\n",
    "    \"swimming_pools\",\n",
    "    \"gyms\",\n",
    "    \"bakeries\",\n",
    "    \"beauty_spas\",\n",
    "    \"cafes\",\n",
    "    \"view_points\",\n",
    "    \"monuments\",\n",
    "    \"gardens\",\n",
    "    \"c25\",\n",
    "]\n",
    "data_full = pd.read_csv(\n",
    "    os.path.join(path_to_data, filename), sep=\",\", index_col=0, names=features, header=0\n",
    ")"
   ]
  },
  {
   "cell_type": "code",
   "execution_count": null,
   "id": "8619d6f0-6ae8-477c-9c0f-2af3d507185c",
   "metadata": {},
   "outputs": [],
   "source": [
    "data_full.head()"
   ]
  },
  {
   "cell_type": "markdown",
   "id": "1ae886d0-76e4-46eb-9dee-bbe473d73a7f",
   "metadata": {},
   "source": [
    "Remove the empty last column."
   ]
  },
  {
   "cell_type": "code",
   "execution_count": null,
   "id": "41975e29-3332-44ac-89e9-3c478e513648",
   "metadata": {},
   "outputs": [],
   "source": [
    "data_full = data_full.iloc[:, :-1]"
   ]
  },
  {
   "cell_type": "code",
   "execution_count": null,
   "id": "3a3f50b4-9adc-4a7f-b23c-75a37a9d9d6c",
   "metadata": {},
   "outputs": [],
   "source": [
    "data_full.describe()"
   ]
  },
  {
   "cell_type": "markdown",
   "id": "f5de7c19-5a49-4a06-ba66-30ede4e9218f",
   "metadata": {},
   "source": [
    "Ratings between 1 and 5. 0 means that no rating has been made."
   ]
  },
  {
   "cell_type": "code",
   "execution_count": null,
   "id": "e3c164cc-2cb6-4a45-a4c1-77e870eea16c",
   "metadata": {},
   "outputs": [],
   "source": [
    "data_full.isna().sum()"
   ]
  },
  {
   "cell_type": "code",
   "execution_count": null,
   "id": "79e1a775-8c76-45e4-b7a2-a88265dda219",
   "metadata": {},
   "outputs": [],
   "source": [
    "data_full[data_full.isna().any(axis=1)]"
   ]
  },
  {
   "cell_type": "code",
   "execution_count": null,
   "id": "d90cf482-1f92-47fd-958c-3f61001bf135",
   "metadata": {},
   "outputs": [],
   "source": [
    "df_full = data_full.dropna().copy()"
   ]
  },
  {
   "cell_type": "code",
   "execution_count": null,
   "id": "a1be1626-39b9-4cc2-927e-99e992ed18b3",
   "metadata": {},
   "outputs": [],
   "source": [
    "df_full.dtypes"
   ]
  },
  {
   "cell_type": "markdown",
   "id": "16ab34e4-5d03-4e87-b7ba-d0658f1bafcc",
   "metadata": {},
   "source": [
    "Because of the false value for User 2713 in the local services column, the data type is not float."
   ]
  },
  {
   "cell_type": "code",
   "execution_count": null,
   "id": "3d98d22e-2ae0-4e11-9005-7c9a2e6252ca",
   "metadata": {},
   "outputs": [],
   "source": [
    "df_full[\"local_services\"] = pd.to_numeric(df_full[\"local_services\"])"
   ]
  },
  {
   "cell_type": "code",
   "execution_count": null,
   "id": "4e9473f4-b1f5-4432-a64c-231fd2366d22",
   "metadata": {},
   "outputs": [],
   "source": [
    "df_full.dtypes"
   ]
  },
  {
   "cell_type": "markdown",
   "id": "c424b28d-8a39-47fd-9163-893469c30722",
   "metadata": {},
   "source": [
    "<a id='datavis'></a>\n",
    "### 1.2. Data Visualization "
   ]
  },
  {
   "cell_type": "code",
   "execution_count": null,
   "id": "468770a9-5459-4cb7-bf88-231911ca138a",
   "metadata": {},
   "outputs": [],
   "source": [
    "start, end = 0, 8\n",
    "draw_plot(\n",
    "    df_full[features[start:end]],\n",
    "    plot_type=\"histplot\",\n",
    "    figsize=(16, 8),\n",
    "    grid_size=(2, 4),\n",
    "    title=f\"Feature distribution for the features: {', '.join(features[start:end])}.\",\n",
    ")"
   ]
  },
  {
   "cell_type": "code",
   "execution_count": null,
   "id": "8b713b3e-2625-4e24-80a0-fb8801695869",
   "metadata": {},
   "outputs": [],
   "source": [
    "start, end = 8, 16\n",
    "draw_plot(\n",
    "    df_full[features[start:end]],\n",
    "    plot_type=\"histplot\",\n",
    "    figsize=(16, 8),\n",
    "    grid_size=(2, 4),\n",
    "    title=f\"Feature distribution for the features: {', '.join(features[start:end])}.\",\n",
    ")"
   ]
  },
  {
   "cell_type": "code",
   "execution_count": null,
   "id": "050ae2de-3a0e-4220-8e09-d0095456820d",
   "metadata": {},
   "outputs": [],
   "source": [
    "start, end = 16, 24\n",
    "draw_plot(\n",
    "    df_full[features[start:end]],\n",
    "    plot_type=\"histplot\",\n",
    "    figsize=(16, 8),\n",
    "    grid_size=(2, 4),\n",
    "    title=f\"Feature distribution for the features: {', '.join(features[start:end])}.\",\n",
    ")"
   ]
  },
  {
   "cell_type": "code",
   "execution_count": null,
   "id": "dd5956b0-8739-46fa-9f36-97bbcf800050",
   "metadata": {},
   "outputs": [],
   "source": [
    "norating = df_full[df_full == 0].count(axis=0) / df_full.shape[0] * 100"
   ]
  },
  {
   "cell_type": "code",
   "execution_count": null,
   "id": "a6a06135-24a3-42fb-b430-750219263648",
   "metadata": {},
   "outputs": [],
   "source": [
    "df_norating = (\n",
    "    pd.DataFrame(norating, columns=[\"perc_norating\"])\n",
    "    .reset_index()\n",
    "    .sort_values(by=\"perc_norating\", ascending=False)\n",
    ")"
   ]
  },
  {
   "cell_type": "code",
   "execution_count": null,
   "id": "aa7d2b82-c745-4789-beca-b5f5ae359079",
   "metadata": {},
   "outputs": [],
   "source": [
    "ax = sns.barplot(df_norating, x=\"perc_norating\", y=\"index\")\n",
    "plt.xlabel(\"Users that left no rating [%]\")\n",
    "ax.xaxis.set_major_formatter(mtick.PercentFormatter())\n",
    "plt.ylabel(\"Feature\")\n",
    "plt.title(\"Percentage of users that have not rated the feature.\")\n",
    "plt.show()"
   ]
  },
  {
   "cell_type": "code",
   "execution_count": null,
   "id": "1c3b9d90-706c-496c-9d76-8248464a4704",
   "metadata": {},
   "outputs": [],
   "source": [
    "df_average = (\n",
    "    pd.DataFrame(df_full.replace(0, np.NaN).mean(), columns=[\"Average\"])\n",
    "    .reset_index()\n",
    "    .rename(columns={\"index\": \"Feature\"})\n",
    "    .sort_values(by=\"Average\", ascending=False)\n",
    ")"
   ]
  },
  {
   "cell_type": "code",
   "execution_count": null,
   "id": "976ff416-82fb-4bc0-bf8d-58ed280c1dd4",
   "metadata": {},
   "outputs": [],
   "source": [
    "palette = [\n",
    "    \"red\" if 0 < val <= 1 else \"orange\" if 1 < val <= 2 else \"blue\" if 2 < val <= 3 else \"green\"\n",
    "    for val in df_average[\"Average\"].tolist()\n",
    "]\n",
    "\n",
    "sns.barplot(df_average, y=\"Feature\", x=\"Average\", palette=palette)\n",
    "plt.xlabel(\"Rating\")\n",
    "plt.title(\"Average Ratings excluding zero values.\")\n",
    "plt.show()"
   ]
  },
  {
   "cell_type": "markdown",
   "id": "745c02d4-41c5-4d94-b11d-2c9fdcfce57e",
   "metadata": {},
   "source": [
    "<a id='datared'></a>\n",
    "### 1.3. Data Reduction"
   ]
  },
  {
   "cell_type": "markdown",
   "id": "a7e2eaf9-dc4d-4eac-b3ee-26cca159bf0b",
   "metadata": {},
   "source": [
    "Reduce the number of features. Credit [[2]](https://www.kaggle.com/code/johnmantios/travel-review-ratings-dataset#Clustering)"
   ]
  },
  {
   "cell_type": "code",
   "execution_count": null,
   "id": "08e2ee8c-7a3a-4638-a8ed-9a7bd24d9659",
   "metadata": {},
   "outputs": [],
   "source": [
    "culture_features = [\"theatres\", \"museums\", \"art_galleries\"]\n",
    "city_features = [\"churches\", \"malls\", \"zoo\", \"local_services\"]\n",
    "nature_features = [\"beaches\", \"parks\"]\n",
    "scenic_features = [\"monuments\", \"view_points\", \"gardens\"]\n",
    "wellness_features = [\"beauty_spas\", \"gyms\", \"swimming_pools\"]\n",
    "food_features = [\"burger_pizza_shops\", \"juice_bars\", \"cafes\", \"bakeries\", \"restaurants\"]\n",
    "nightlife_features = [\"pubs_bars\", \"dance_clubs\"]\n",
    "accommodation_features = [\"resorts\", \"hotels_other_lodgings\"]"
   ]
  },
  {
   "cell_type": "code",
   "execution_count": null,
   "id": "c5851c6e-66f5-419c-8da1-82a0274900d5",
   "metadata": {},
   "outputs": [],
   "source": [
    "test_features = [\"monuments\", \"view_points\", \"gardens\"]"
   ]
  },
  {
   "cell_type": "code",
   "execution_count": null,
   "id": "90f14072-786d-4d6f-a5dc-5cc99e257863",
   "metadata": {},
   "outputs": [],
   "source": [
    "# check_feature_reduction(df_full, test_features)"
   ]
  },
  {
   "cell_type": "code",
   "execution_count": null,
   "id": "dd873743-2c4d-4881-81b4-f76d10505b87",
   "metadata": {},
   "outputs": [],
   "source": [
    "def check_feature_reduction(df, features):\n",
    "    df_reduced = df[features].agg([np.mean, np.std], axis=1)\n",
    "    _, axes = plt.subplots(figsize=(12, 6), ncols=2)\n",
    "    sns.histplot(df_reduced, x=\"mean\", ax=axes[0])\n",
    "    sns.histplot(df_reduced, x=\"std\", ax=axes[1])\n",
    "    axes[0].set_xlabel(\"Average Rating\")\n",
    "    axes[1].set_xlabel(\"Standard deviation of average Rating\")\n",
    "    plt.suptitle(f\"Distribution for the combined features {', '.join(features)}.\")\n",
    "    plt.show()"
   ]
  },
  {
   "cell_type": "code",
   "execution_count": null,
   "id": "c83cc8fa-e760-473a-9c82-a44934b17e55",
   "metadata": {},
   "outputs": [],
   "source": [
    "check_feature_reduction(df_full, culture_features)"
   ]
  },
  {
   "cell_type": "code",
   "execution_count": null,
   "id": "52ea3cbf-bd6c-4349-adae-3b30a7c49e46",
   "metadata": {},
   "outputs": [],
   "source": [
    "check_feature_reduction(df_full, city_features)"
   ]
  },
  {
   "cell_type": "code",
   "execution_count": null,
   "id": "7493ff6c-b063-4607-94a3-e37e8e605145",
   "metadata": {},
   "outputs": [],
   "source": [
    "check_feature_reduction(df_full, nature_features)"
   ]
  },
  {
   "cell_type": "code",
   "execution_count": null,
   "id": "83d58021-cd32-441c-8721-253ef55adae0",
   "metadata": {},
   "outputs": [],
   "source": [
    "check_feature_reduction(df_full, scenic_features)"
   ]
  },
  {
   "cell_type": "code",
   "execution_count": null,
   "id": "79e52030-4890-4561-85f0-4f976ced81d7",
   "metadata": {},
   "outputs": [],
   "source": [
    "check_feature_reduction(df_full, wellness_features)"
   ]
  },
  {
   "cell_type": "code",
   "execution_count": null,
   "id": "a3363052-953a-469b-adf3-9b7398279b50",
   "metadata": {},
   "outputs": [],
   "source": [
    "check_feature_reduction(df_full, food_features)"
   ]
  },
  {
   "cell_type": "code",
   "execution_count": null,
   "id": "6418d495-9b5a-460f-bbe1-3230da2ea115",
   "metadata": {},
   "outputs": [],
   "source": [
    "check_feature_reduction(df_full, nightlife_features)"
   ]
  },
  {
   "cell_type": "code",
   "execution_count": null,
   "id": "442f9103-6900-4a6d-893a-e80e7d5549ae",
   "metadata": {},
   "outputs": [],
   "source": [
    "check_feature_reduction(df_full, accommodation_features)"
   ]
  },
  {
   "cell_type": "code",
   "execution_count": null,
   "id": "6d4bfef7-7629-4b71-b4c0-b0e66d5a2d5d",
   "metadata": {},
   "outputs": [],
   "source": [
    "df_reduced = pd.DataFrame(\n",
    "    {\n",
    "        \"culture\": df_full[culture_features].mean(axis=1),\n",
    "        \"city\": df_full[city_features].mean(axis=1),\n",
    "        \"nature\": df_full[nature_features].mean(axis=1),\n",
    "        \"scenic\": df_full[scenic_features].mean(axis=1),\n",
    "        \"wellness\": df_full[wellness_features].mean(axis=1),\n",
    "        \"food\": df_full[food_features].mean(axis=1),\n",
    "        \"nightlife\": df_full[nightlife_features].mean(axis=1),\n",
    "        \"accommodation\": df_full[accommodation_features].mean(axis=1),\n",
    "    }\n",
    ")"
   ]
  },
  {
   "cell_type": "code",
   "execution_count": null,
   "id": "1f9cd725-a1e9-4899-94bb-0b35ebd16a30",
   "metadata": {},
   "outputs": [],
   "source": [
    "df_reduced"
   ]
  },
  {
   "cell_type": "code",
   "execution_count": null,
   "id": "4e2d28f8-3554-45a1-92c2-6f8ed97f39a7",
   "metadata": {},
   "outputs": [],
   "source": [
    "sns.pairplot(df_reduced)\n",
    "plt.show()"
   ]
  },
  {
   "cell_type": "code",
   "execution_count": null,
   "id": "96074686-054c-4987-98de-f5553b9552da",
   "metadata": {},
   "outputs": [],
   "source": [
    "df_reduced.describe()"
   ]
  },
  {
   "cell_type": "code",
   "execution_count": null,
   "id": "37d84541-434e-4cb1-b2e3-38ad220fd283",
   "metadata": {},
   "outputs": [],
   "source": [
    "sns.boxenplot(df_reduced)\n",
    "plt.show()"
   ]
  },
  {
   "cell_type": "code",
   "execution_count": null,
   "id": "45e59750-84b5-4ca7-a515-fc37eb481bc2",
   "metadata": {},
   "outputs": [],
   "source": [
    "df = df_reduced"
   ]
  },
  {
   "cell_type": "markdown",
   "id": "87d98730-fa67-4cf2-a136-0455839786d2",
   "metadata": {},
   "source": [
    "---\n",
    "<a id='parameters'></a>"
   ]
  },
  {
   "cell_type": "markdown",
   "id": "88f4244e-27b7-4193-bfbd-b2126c9d0085",
   "metadata": {
    "tags": []
   },
   "source": [
    "## 2. Parameters\n",
    "\n",
    "bla"
   ]
  },
  {
   "cell_type": "code",
   "execution_count": null,
   "id": "aea6b201-7962-4995-b011-aa5b842c03b8",
   "metadata": {},
   "outputs": [],
   "source": [
    "random_state = 42"
   ]
  },
  {
   "cell_type": "markdown",
   "id": "1ce3eafc-7803-40b0-bc30-45d3f3a6836a",
   "metadata": {},
   "source": [
    "---\n",
    "<a id='model-setup'></a>"
   ]
  },
  {
   "cell_type": "markdown",
   "id": "96d331f6-088f-4ef5-b3e9-d219c8efac0f",
   "metadata": {},
   "source": [
    "## 3. Model setup\n",
    "<a id='kmean'></a>\n",
    "### 3.1. K-Means\n",
    "\n",
    "bla"
   ]
  },
  {
   "cell_type": "code",
   "execution_count": null,
   "id": "473bbd39-5f50-423c-9575-2c0a1744c1ef",
   "metadata": {},
   "outputs": [],
   "source": [
    "max_ks = 10\n",
    "ks = range(2, max_ks)"
   ]
  },
  {
   "cell_type": "code",
   "execution_count": null,
   "id": "dabed44b-2d01-4f5c-bdaf-1e14fd151776",
   "metadata": {},
   "outputs": [],
   "source": [
    "sscores = draw_plot(\n",
    "    df,\n",
    "    ks=ks,\n",
    "    plot_type=\"ksscore\",\n",
    "    random_state=random_state,\n",
    "    labels=[\"K\", \"Silhouette Coefficient\"],\n",
    "    title=\"Silhouette Score for different Ks\",\n",
    ")"
   ]
  },
  {
   "cell_type": "code",
   "execution_count": null,
   "id": "f6c14045-0ee6-4488-ba6d-429ccf39d030",
   "metadata": {},
   "outputs": [],
   "source": [
    "df_kscores = pd.DataFrame({\"k\": ks, \"score\": sscores}).sort_values(by=\"score\", ascending=False)\n",
    "df_kscores"
   ]
  },
  {
   "cell_type": "code",
   "execution_count": null,
   "id": "6c28bf8c-9a2c-43bf-8d6f-519fcd91b54f",
   "metadata": {},
   "outputs": [],
   "source": [
    "best_k_silhouette = df_kscores.iloc[0, 0]\n",
    "kmean_best_labels = draw_plot(\n",
    "    df,\n",
    "    plot_type=\"silhouette\",\n",
    "    ks=best_k_silhouette,\n",
    "    random_state=random_state,\n",
    "    labels=[\"The silhouette coefficient values\", \"Cluster label\"],\n",
    "    title=f\"Silhouette analysis for KMeans clustering with n_clusters = {best_k_silhouette}\",\n",
    ")"
   ]
  },
  {
   "cell_type": "code",
   "execution_count": null,
   "id": "c63c2eab-8741-48b9-acaf-28c7c9578730",
   "metadata": {},
   "outputs": [],
   "source": [
    "df_kmean_best = df.copy()\n",
    "df_kmean_best[\"kmeans_labels\"] = kmean_best_labels\n",
    "sns.pairplot(df_kmean_best, hue=\"kmeans_labels\", palette=CMAP_PLT)\n",
    "plt.show()"
   ]
  },
  {
   "cell_type": "code",
   "execution_count": null,
   "id": "480bbe13-0118-41c2-8dd6-046b929cb3a9",
   "metadata": {},
   "outputs": [],
   "source": [
    "second_k_silhouette = df_kscores.iloc[1, 0]\n",
    "kmean_second_labels = draw_plot(\n",
    "    df,\n",
    "    plot_type=\"silhouette\",\n",
    "    ks=second_k_silhouette,\n",
    "    random_state=random_state,\n",
    "    labels=[\"The silhouette coefficient values\", \"Cluster label\"],\n",
    "    title=f\"Silhouette analysis for KMeans clustering with n_clusters = {second_k_silhouette}\",\n",
    ")"
   ]
  },
  {
   "cell_type": "code",
   "execution_count": null,
   "id": "a153514c-af46-44ca-ad84-f1835294aa7a",
   "metadata": {},
   "outputs": [],
   "source": [
    "df_kmean_second = df.copy()\n",
    "df_kmean_second[\"kmeans_labels\"] = kmean_second_labels\n",
    "sns.pairplot(df_kmean_second, hue=\"kmeans_labels\", palette=CMAP_PLT)\n",
    "plt.show()"
   ]
  },
  {
   "cell_type": "markdown",
   "id": "2e7f06b7-3465-4c5a-885c-034ef5810b27",
   "metadata": {},
   "source": [
    "<a id='hac'></a>"
   ]
  },
  {
   "cell_type": "markdown",
   "id": "cc794cae-df11-4ac7-b554-65a2c3070c55",
   "metadata": {},
   "source": [
    "### 3.2. HAC (Hierarchical Agglomerative Clustering)"
   ]
  },
  {
   "cell_type": "code",
   "execution_count": null,
   "id": "46c2097d-66c7-4267-ad08-361ae49fd152",
   "metadata": {},
   "outputs": [],
   "source": [
    "dendo_distance = \"single\"\n",
    "dendo_cut = 1\n",
    "dendo_model = AgglomerativeClustering(\n",
    "    n_clusters=None,\n",
    "    distance_threshold=1,\n",
    "    affinity=\"euclidean\",\n",
    "    linkage=dendo_distance,\n",
    "    compute_distances=True,\n",
    ")\n",
    "dendo_model.fit_predict(df)\n",
    "_ = draw_plot(\n",
    "    dendo_model,\n",
    "    plot_type=\"dendo\",\n",
    "    dendo_cut=dendo_cut,\n",
    "    dendo_distance=dendo_distance,\n",
    "    labels=[\"Samples\", \"Distance\"],\n",
    "    title=f\"Dendogram using {dendo_distance}-link.\",\n",
    ")"
   ]
  },
  {
   "cell_type": "code",
   "execution_count": null,
   "id": "89f2fc1d-7bbc-49d5-92d0-f0882dd3b316",
   "metadata": {},
   "outputs": [],
   "source": [
    "dendo_distance = \"complete\"\n",
    "dendo_cut = 6\n",
    "dendo_model = AgglomerativeClustering(\n",
    "    n_clusters=None,\n",
    "    distance_threshold=1,\n",
    "    affinity=\"euclidean\",\n",
    "    linkage=dendo_distance,\n",
    "    compute_distances=True,\n",
    ")\n",
    "dendo_model.fit_predict(df)\n",
    "_ = draw_plot(\n",
    "    dendo_model,\n",
    "    plot_type=\"dendo\",\n",
    "    dendo_cut=dendo_cut,\n",
    "    dendo_distance=dendo_distance,\n",
    "    labels=[\"Samples\", \"Distance\"],\n",
    "    title=f\"Dendogram using {dendo_distance}-link.\",\n",
    ")"
   ]
  },
  {
   "cell_type": "code",
   "execution_count": null,
   "id": "7dafa663-790f-4b68-a832-480323df5d9a",
   "metadata": {
    "tags": []
   },
   "outputs": [],
   "source": [
    "dendo_distance = \"average\"\n",
    "dendo_cut = 3.2\n",
    "dendo_model = AgglomerativeClustering(\n",
    "    n_clusters=None,\n",
    "    distance_threshold=1,\n",
    "    affinity=\"euclidean\",\n",
    "    linkage=dendo_distance,\n",
    "    compute_distances=True,\n",
    ")\n",
    "labels_dendo = dendo_model.fit_predict(df)\n",
    "_ = draw_plot(\n",
    "    dendo_model,\n",
    "    plot_type=\"dendo\",\n",
    "    dendo_cut=dendo_cut,\n",
    "    dendo_distance=dendo_distance,\n",
    "    labels=[\"Samples\", \"Distance\"],\n",
    "    title=f\"Dendogram using {dendo_distance}-link.\",\n",
    ")"
   ]
  },
  {
   "cell_type": "code",
   "execution_count": null,
   "id": "b7723ba7-1632-4d80-870d-32c2fe59a84e",
   "metadata": {},
   "outputs": [],
   "source": [
    "dendo_model = AgglomerativeClustering(\n",
    "    n_clusters=4,\n",
    "    distance_threshold=None,\n",
    "    affinity=\"euclidean\",\n",
    "    linkage=\"complete\",\n",
    "    compute_distances=True,\n",
    ")\n",
    "labels_dendo = dendo_model.fit_predict(df)"
   ]
  },
  {
   "cell_type": "code",
   "execution_count": null,
   "id": "c4749fab-8455-47b2-a0d8-b9640e59c737",
   "metadata": {},
   "outputs": [],
   "source": [
    "dendo_unique, dendo_count = np.unique(labels_dendo, return_counts=True)"
   ]
  },
  {
   "cell_type": "code",
   "execution_count": null,
   "id": "5dda93cb-345b-4708-b8a8-1f5fcbd1666e",
   "metadata": {},
   "outputs": [],
   "source": [
    "dendo_unique"
   ]
  },
  {
   "cell_type": "code",
   "execution_count": null,
   "id": "f36cfc97-2bb6-4831-912d-ea8bf34e983e",
   "metadata": {},
   "outputs": [],
   "source": [
    "dendo_count"
   ]
  },
  {
   "cell_type": "code",
   "execution_count": null,
   "id": "fc183841-d582-4114-b192-c4182fe2aab9",
   "metadata": {},
   "outputs": [],
   "source": [
    "df_dendo = df.copy()\n",
    "df_dendo[\"dendo_labels\"] = labels_dendo\n",
    "sns.pairplot(df_dendo, hue=\"dendo_labels\", palette=CMAP_PLT)\n",
    "plt.show()"
   ]
  },
  {
   "cell_type": "markdown",
   "id": "074f1fd1-dd2e-4d8e-8c98-ed240e5412d9",
   "metadata": {},
   "source": [
    "<a id='optics'></a>"
   ]
  },
  {
   "cell_type": "markdown",
   "id": "3a6e43c4-cf8f-4880-be50-cd6d296eef96",
   "metadata": {},
   "source": [
    "### 3.3. OPTICS (Ordering Points To Identify the Clustering Structure)"
   ]
  },
  {
   "cell_type": "code",
   "execution_count": null,
   "id": "e0bda32a-19f3-46b6-8719-2f7f1f9d5b16",
   "metadata": {},
   "outputs": [],
   "source": [
    "def optics_experiment(df, parameters: dict[str, list]):\n",
    "    results = list()\n",
    "    space = np.arange(len(df))\n",
    "\n",
    "    max_len = np.prod([len(item) for item in parameters.values()])  # Iterables have no length\n",
    "    for item in tqdm(itertools.product(*parameters.values()), total=max_len):\n",
    "        optics_clustering = OPTICS(\n",
    "            min_samples=item[0], metric=item[1], xi=item[2], min_cluster_size=item[3]\n",
    "        ).fit(df)\n",
    "        results.append(\n",
    "            OPTICSResults(\n",
    "                optics=optics_clustering,\n",
    "                space=space,\n",
    "                reachability=optics_clustering.reachability_[optics_clustering.ordering_],\n",
    "                targets=optics_clustering.labels_[optics_clustering.ordering_],\n",
    "                params=optics_clustering.get_params(),\n",
    "            )\n",
    "        )\n",
    "    return results"
   ]
  },
  {
   "cell_type": "code",
   "execution_count": null,
   "id": "c0032756-bbb7-4dc3-b076-06db0a739730",
   "metadata": {},
   "outputs": [],
   "source": [
    "parameters = {\n",
    "    \"min_samples\": [10, 20, 40],\n",
    "    \"metric\": [\"euclidean\"],\n",
    "    \"xi\": [0.001, 0.005],\n",
    "    \"min_cluster_size\": [0.05, 0.1, 0.2],\n",
    "}"
   ]
  },
  {
   "cell_type": "code",
   "execution_count": null,
   "id": "7b868e12-cd51-4d95-b4b5-6c41fd58a8df",
   "metadata": {},
   "outputs": [],
   "source": [
    "optics_res = optics_experiment(df, parameters)"
   ]
  },
  {
   "cell_type": "code",
   "execution_count": null,
   "id": "4ba2c588-aaa9-437c-8185-fbf118c1baac",
   "metadata": {},
   "outputs": [],
   "source": [
    "draw_plot(\n",
    "    optics_res,\n",
    "    figsize=(16, 18),\n",
    "    grid_size=(round(len(optics_res) / 2), 2),\n",
    "    plot_type=\"reachability\",\n",
    "    labels=[\"\", \"Reachability distance\"],\n",
    "    # top_cut_off=3,\n",
    "    title=\"Reachability Diagram\",\n",
    ")"
   ]
  },
  {
   "cell_type": "code",
   "execution_count": null,
   "id": "948980c1-d9e1-452b-95bd-ad5e1f43ef44",
   "metadata": {},
   "outputs": [],
   "source": [
    "best_optics = optics_res[-4]\n",
    "labels_optics = cluster_optics_dbscan(\n",
    "    reachability=best_optics.reachability_,\n",
    "    core_distances=best_optics.core_distances_,\n",
    "    ordering=best_optics.ordering_,\n",
    "    eps=2,\n",
    ")"
   ]
  },
  {
   "cell_type": "code",
   "execution_count": null,
   "id": "14dd2d75-80b8-4280-a3af-917769ee4797",
   "metadata": {},
   "outputs": [],
   "source": [
    "df_optics = df.copy()\n",
    "df_optics[\"optics_labels\"] = labels_optics\n",
    "sns.pairplot(df_optics, hue=\"optics_labels\", palette=CMAP_PLT)\n",
    "plt.show()"
   ]
  },
  {
   "cell_type": "markdown",
   "id": "f99ee455-bd2a-4387-b7ea-cf720b0f7123",
   "metadata": {},
   "source": [
    "---\n",
    "<a id='model-eval'></a>"
   ]
  },
  {
   "cell_type": "markdown",
   "id": "0ebc48f3-afc8-41f8-b7cc-2b201bb40bd1",
   "metadata": {},
   "source": [
    "## 4. Model Evaluation\n",
    "<a id='evalkmean'></a>\n",
    "### 4.1. K-Means"
   ]
  },
  {
   "cell_type": "code",
   "execution_count": null,
   "id": "2b336e9d-6574-4e86-83b5-5ee24dda214e",
   "metadata": {},
   "outputs": [],
   "source": [
    "df_kmean_best.head()"
   ]
  },
  {
   "cell_type": "code",
   "execution_count": null,
   "id": "d527c6a1-ac29-44a0-82b1-0b82b7f0bce1",
   "metadata": {},
   "outputs": [],
   "source": [
    "df_kmean_second.head()"
   ]
  },
  {
   "cell_type": "code",
   "execution_count": null,
   "id": "36a4f295-0e39-4dc3-8776-866768f9ef70",
   "metadata": {},
   "outputs": [],
   "source": [
    "conf_matrix = confusion_matrix(\n",
    "    y_true=df_kmean_best[\"kmeans_labels\"],\n",
    "    y_pred=df_kmean_second[\"kmeans_labels\"],\n",
    "    normalize=\"true\",\n",
    ")\n",
    "ConfusionMatrixDisplay(conf_matrix).plot()\n",
    "plt.show()"
   ]
  },
  {
   "cell_type": "markdown",
   "id": "1cdb9f2b-50a1-4123-b715-b3a01da9c647",
   "metadata": {},
   "source": [
    "<a id='evalhac'></a>\n",
    "### 4.2. HAC"
   ]
  },
  {
   "cell_type": "code",
   "execution_count": null,
   "id": "d8e78cb1-dce7-41d6-ba97-91dd08e25d7a",
   "metadata": {},
   "outputs": [],
   "source": [
    "df_dendo.head()"
   ]
  },
  {
   "cell_type": "code",
   "execution_count": null,
   "id": "83c8dcc3-1f30-4486-8b5f-8b1b566a9c99",
   "metadata": {},
   "outputs": [],
   "source": [
    "conf_matrix = confusion_matrix(\n",
    "    y_true=df_dendo[\"dendo_labels\"],\n",
    "    y_pred=df_kmean_best[\"kmeans_labels\"],\n",
    "    normalize=\"true\",\n",
    ")\n",
    "ConfusionMatrixDisplay(conf_matrix).plot()\n",
    "plt.show()"
   ]
  },
  {
   "cell_type": "markdown",
   "id": "2967fadc-d98e-4087-9c45-083d2779b65a",
   "metadata": {},
   "source": [
    "<a id='evaloptics'></a>\n",
    "### 4.3. OPTICS"
   ]
  },
  {
   "cell_type": "code",
   "execution_count": null,
   "id": "800c31fc-aa6b-4d04-a36b-d339a066f41c",
   "metadata": {},
   "outputs": [],
   "source": [
    "df_optics.head()"
   ]
  },
  {
   "cell_type": "code",
   "execution_count": null,
   "id": "85368fe2-97d8-4989-8e1b-a571c6d6920a",
   "metadata": {},
   "outputs": [],
   "source": [
    "conf_matrix = confusion_matrix(\n",
    "    y_true=df_optics[\"optics_labels\"],\n",
    "    y_pred=df_kmean_best[\"kmeans_labels\"],\n",
    "    normalize=\"true\",\n",
    ")\n",
    "ConfusionMatrixDisplay(conf_matrix).plot()\n",
    "plt.show()"
   ]
  },
  {
   "cell_type": "code",
   "execution_count": null,
   "id": "b93c9866-f464-420e-9564-70ccb177b0f2",
   "metadata": {},
   "outputs": [],
   "source": [
    "conf_matrix = confusion_matrix(\n",
    "    y_true=df_optics[\"optics_labels\"],\n",
    "    y_pred=df_dendo[\"dendo_labels\"],\n",
    ")\n",
    "ConfusionMatrixDisplay(conf_matrix).plot()\n",
    "plt.show()"
   ]
  },
  {
   "cell_type": "markdown",
   "id": "3dbc978b-f510-4c9b-b11a-075baa281a18",
   "metadata": {},
   "source": [
    "---\n",
    "<a id='results'></a>"
   ]
  },
  {
   "cell_type": "markdown",
   "id": "2739560c-68d9-4117-bfc4-d3bf2d7cd4ca",
   "metadata": {},
   "source": [
    "## 5. Results\n",
    "\n",
    "bla"
   ]
  },
  {
   "cell_type": "markdown",
   "id": "ffbadb09-3df0-44c0-8b05-4da97c228cb6",
   "metadata": {},
   "source": [
    "---\n",
    "<a id='ref'></a>"
   ]
  },
  {
   "cell_type": "markdown",
   "id": "63e0230c-c730-459d-8091-df1715975467",
   "metadata": {},
   "source": [
    "## References\n",
    "\n",
    "<p> [1] https://archive.ics.uci.edu/ml/datasets/Tarvel+Review+Ratings\n",
    "<p> [2] https://www.kaggle.com/code/johnmantios/travel-review-ratings-dataset#Clustering"
   ]
  },
  {
   "cell_type": "code",
   "execution_count": null,
   "id": "e036044d-4c18-4711-811a-75cf63dc3e30",
   "metadata": {},
   "outputs": [],
   "source": []
  }
 ],
 "metadata": {
  "kernelspec": {
   "display_name": "mms",
   "language": "python",
   "name": "mms"
  },
  "language_info": {
   "codemirror_mode": {
    "name": "ipython",
    "version": 3
   },
   "file_extension": ".py",
   "mimetype": "text/x-python",
   "name": "python",
   "nbconvert_exporter": "python",
   "pygments_lexer": "ipython3",
   "version": "3.9.13"
  }
 },
 "nbformat": 4,
 "nbformat_minor": 5
}
